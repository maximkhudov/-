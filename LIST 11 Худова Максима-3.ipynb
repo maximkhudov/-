{
 "cells": [
  {
   "cell_type": "code",
   "execution_count": 1,
   "id": "8962cb57",
   "metadata": {},
   "outputs": [],
   "source": [
    "import pandas as pd\n",
    "import numpy as np\n",
    "import statsmodels.formula.api as smf\n",
    "import seaborn as sns\n",
    "import matplotlib.pyplot as plt\n",
    "import scipy.stats as stats"
   ]
  },
  {
   "cell_type": "markdown",
   "id": "657fb450",
   "metadata": {},
   "source": [
    "# Задача 1.1"
   ]
  },
  {
   "cell_type": "code",
   "execution_count": 2,
   "id": "90930e17",
   "metadata": {},
   "outputs": [
    {
     "name": "stdout",
     "output_type": "stream",
     "text": [
      "8.31 12.591587243743977\n"
     ]
    }
   ],
   "source": [
    "df = pd.read_csv('https://raw.githubusercontent.com/ryupepa/Econometrica/master/python-notebooks/data-csv/sleep75.csv')\n",
    "model = smf.ols(data=df, formula='sleep~totwrk+age+I(age**2)+male+smsa+south').fit()\n",
    "df['res2']=model.resid**2\n",
    "df['res']=model.resid\n",
    "sub_model= smf.ols(data=df, formula='res2~totwrk+age+I(age**2)+male+smsa+south').fit()\n",
    "St = np.round(len(df)*sub_model.rsquared,2)\n",
    "Hi2 = stats.chi2.ppf(1-0.05,6)\n",
    "print(St,Hi2)"
   ]
  },
  {
   "cell_type": "markdown",
   "id": "d61db285",
   "metadata": {},
   "source": [
    "# $St<Hi^2$ Нет оснований отвергнуть нулевую гипотезу. Тест указывает на гомоскедастичность."
   ]
  },
  {
   "cell_type": "markdown",
   "id": "5589e778",
   "metadata": {},
   "source": [
    "# Задача 1.2"
   ]
  },
  {
   "cell_type": "code",
   "execution_count": 5,
   "id": "aaca3daa",
   "metadata": {},
   "outputs": [
    {
     "name": "stdout",
     "output_type": "stream",
     "text": [
      "8.94 11.070497693516351\n"
     ]
    }
   ],
   "source": [
    "df = pd.read_csv('https://raw.githubusercontent.com/artamonoff/Econometrica/master/python-notebooks/data-csv/wage1.csv')\n",
    "model = smf.ols(data=df, formula='np.log(wage)~exper+I(exper**2)+female+married+smsa').fit()\n",
    "df['res2']=model.resid**2\n",
    "df['res']=model.resid\n",
    "sub_model= smf.ols(data=df, formula='res2~exper+I(exper**2)+female+married+smsa').fit()\n",
    "St = np.round(len(df)*sub_model.rsquared,2)\n",
    "Hi2 = stats.chi2.ppf(1-0.05,5)\n",
    "print(St,Hi2)"
   ]
  },
  {
   "cell_type": "markdown",
   "id": "65874586",
   "metadata": {},
   "source": [
    "# $St<Hi^2$ Нет оснований отвергнуть нулевую гипотезу. Тест указывает на гомоскедастичность."
   ]
  },
  {
   "cell_type": "markdown",
   "id": "c35c59f9",
   "metadata": {},
   "source": [
    "# Задача 1.3"
   ]
  },
  {
   "cell_type": "code",
   "execution_count": 8,
   "id": "d93d533e",
   "metadata": {},
   "outputs": [
    {
     "name": "stdout",
     "output_type": "stream",
     "text": [
      "44.53 9.487729036781154\n"
     ]
    }
   ],
   "source": [
    "df = pd.read_csv('https://raw.githubusercontent.com/artamonoff/Econometrica/master/python-notebooks/data-csv/Labour.csv')\n",
    "model = smf.ols(data=df, formula='np.log(output)~np.log(capital)+np.log(labour)+I(np.log(capital)**2)+I(np.log(labour)**2)').fit()\n",
    "df['res2']=model.resid**2\n",
    "df['res']=model.resid\n",
    "sub_model= smf.ols(data=df, formula='res2~np.log(capital)+np.log(labour)+I(np.log(capital)**2)+I(np.log(labour)**2)').fit()\n",
    "St = np.round(len(df)*sub_model.rsquared,2)\n",
    "Hi2 = stats.chi2.ppf(1-0.05,4)\n",
    "print(St,Hi2)"
   ]
  },
  {
   "cell_type": "markdown",
   "id": "d5432861",
   "metadata": {},
   "source": [
    "# $St>Hi^2$ Нулевая гепотиза отвергается. Тест указывает на гетероскедастичность."
   ]
  },
  {
   "cell_type": "markdown",
   "id": "5dddd190",
   "metadata": {},
   "source": [
    "# Задача 1.4"
   ]
  },
  {
   "cell_type": "code",
   "execution_count": 10,
   "id": "e339ddb8",
   "metadata": {},
   "outputs": [
    {
     "name": "stdout",
     "output_type": "stream",
     "text": [
      "45.08 11.070497693516351\n"
     ]
    }
   ],
   "source": [
    "df = pd.read_csv('https://raw.githubusercontent.com/artamonoff/Econometrica/master/python-notebooks/data-csv/Electricity.csv')\n",
    "model = smf.ols(data=df, formula='np.log(cost)~np.log(q)+I(np.log(q)**2)+np.log(pl)+np.log(pk)+np.log(pf)').fit()\n",
    "df['res2']=model.resid**2\n",
    "df['res']=model.resid\n",
    "sub_model= smf.ols(data=df, formula='res2~np.log(q)+I(np.log(q)**2)+np.log(pl)+np.log(pk)+np.log(pf)').fit()\n",
    "St = np.round(len(df)*sub_model.rsquared,2)\n",
    "Hi2 = stats.chi2.ppf(1-0.05,5)\n",
    "print(St,Hi2)"
   ]
  },
  {
   "cell_type": "markdown",
   "id": "75a260dc",
   "metadata": {},
   "source": [
    "# $St>Hi^2$ Нулевая гепотиза отвергается. Тест указывает на гетероскедастичность."
   ]
  },
  {
   "cell_type": "markdown",
   "id": "bd4b50c6",
   "metadata": {},
   "source": [
    "# Задача 1.5"
   ]
  },
  {
   "cell_type": "code",
   "execution_count": 12,
   "id": "df547d09",
   "metadata": {},
   "outputs": [
    {
     "name": "stdout",
     "output_type": "stream",
     "text": [
      "49.3 15.50731305586545\n"
     ]
    }
   ],
   "source": [
    "df = pd.read_csv('https://raw.githubusercontent.com/artamonoff/Econometrica/master/python-notebooks/data-csv/Electricity.csv')\n",
    "model = smf.ols(data=df, formula='np.log(cost)~np.log(q)+I(np.log(q)**2)+np.log(pl)+np.log(pk)+np.log(pf)+I(np.log(pl)**2)+I(np.log(pk)**2)+I(np.log(pf)**2)').fit()\n",
    "df['res2']=model.resid**2\n",
    "df['res']=model.resid\n",
    "sub_model= smf.ols(data=df, formula='res2~np.log(q)+I(np.log(q)**2)+np.log(pl)+np.log(pk)+np.log(pf)+I(np.log(pl)**2)+I(np.log(pk)**2)+I(np.log(pf)**2)').fit()\n",
    "St = np.round(len(df)*sub_model.rsquared,2)\n",
    "Hi2 = stats.chi2.ppf(1-0.05,8)\n",
    "print(St,Hi2)"
   ]
  },
  {
   "cell_type": "markdown",
   "id": "10ba28a8",
   "metadata": {},
   "source": [
    "# $St>Hi^2$ Нулевая гепотиза отвергается. Тест указывает на гетероскедастичность."
   ]
  },
  {
   "cell_type": "code",
   "execution_count": null,
   "id": "5aec0942",
   "metadata": {},
   "outputs": [],
   "source": []
  }
 ],
 "metadata": {
  "kernelspec": {
   "display_name": "Python 3 (ipykernel)",
   "language": "python",
   "name": "python3"
  },
  "language_info": {
   "codemirror_mode": {
    "name": "ipython",
    "version": 3
   },
   "file_extension": ".py",
   "mimetype": "text/x-python",
   "name": "python",
   "nbconvert_exporter": "python",
   "pygments_lexer": "ipython3",
   "version": "3.9.13"
  }
 },
 "nbformat": 4,
 "nbformat_minor": 5
}
