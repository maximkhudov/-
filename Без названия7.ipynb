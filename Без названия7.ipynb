{
 "cells": [
  {
   "cell_type": "markdown",
   "id": "73e08e2b",
   "metadata": {},
   "source": [
    "## Задача 1.1.1"
   ]
  },
  {
   "cell_type": "code",
   "execution_count": 1,
   "id": "4ac4462b",
   "metadata": {},
   "outputs": [],
   "source": [
    "import numpy as np\n",
    "import pandas as pd\n",
    "import io\n",
    "import statsmodels.formula.api as smf"
   ]
  },
  {
   "cell_type": "code",
   "execution_count": 2,
   "id": "e4d2149a",
   "metadata": {},
   "outputs": [],
   "source": [
    "data = '''sleep totwrk age male hrwage\n",
    "3113   3438  32   1    7.07 \n",
    "2920   5020  31   1    1.43 \n",
    "2670   2815  44   1   20.53 \n",
    "3083   3786  30   0    9.62 \n",
    "3448   2580  64   1    2.75 \n",
    "4063   1205  41   1   19.25 '''"
   ]
  },
  {
   "cell_type": "code",
   "execution_count": 3,
   "id": "29f265d1",
   "metadata": {},
   "outputs": [
    {
     "data": {
      "text/plain": [
       "'sleep totwrk age male hrwage\\n3113   3438  32   1    7.07 \\n2920   5020  31   1    1.43 \\n2670   2815  44   1   20.53 \\n3083   3786  30   0    9.62 \\n3448   2580  64   1    2.75 \\n4063   1205  41   1   19.25 '"
      ]
     },
     "execution_count": 3,
     "metadata": {},
     "output_type": "execute_result"
    }
   ],
   "source": [
    "data"
   ]
  },
  {
   "cell_type": "code",
   "execution_count": 5,
   "id": "343f5514",
   "metadata": {},
   "outputs": [
    {
     "data": {
      "text/html": [
       "<div>\n",
       "<style scoped>\n",
       "    .dataframe tbody tr th:only-of-type {\n",
       "        vertical-align: middle;\n",
       "    }\n",
       "\n",
       "    .dataframe tbody tr th {\n",
       "        vertical-align: top;\n",
       "    }\n",
       "\n",
       "    .dataframe thead th {\n",
       "        text-align: right;\n",
       "    }\n",
       "</style>\n",
       "<table border=\"1\" class=\"dataframe\">\n",
       "  <thead>\n",
       "    <tr style=\"text-align: right;\">\n",
       "      <th></th>\n",
       "      <th>sleep</th>\n",
       "      <th>totwrk</th>\n",
       "      <th>age</th>\n",
       "      <th>male</th>\n",
       "      <th>hrwage</th>\n",
       "    </tr>\n",
       "  </thead>\n",
       "  <tbody>\n",
       "    <tr>\n",
       "      <th>0</th>\n",
       "      <td>3113</td>\n",
       "      <td>3438</td>\n",
       "      <td>32</td>\n",
       "      <td>1</td>\n",
       "      <td>7.07</td>\n",
       "    </tr>\n",
       "    <tr>\n",
       "      <th>1</th>\n",
       "      <td>2920</td>\n",
       "      <td>5020</td>\n",
       "      <td>31</td>\n",
       "      <td>1</td>\n",
       "      <td>1.43</td>\n",
       "    </tr>\n",
       "    <tr>\n",
       "      <th>2</th>\n",
       "      <td>2670</td>\n",
       "      <td>2815</td>\n",
       "      <td>44</td>\n",
       "      <td>1</td>\n",
       "      <td>20.53</td>\n",
       "    </tr>\n",
       "    <tr>\n",
       "      <th>3</th>\n",
       "      <td>3083</td>\n",
       "      <td>3786</td>\n",
       "      <td>30</td>\n",
       "      <td>0</td>\n",
       "      <td>9.62</td>\n",
       "    </tr>\n",
       "    <tr>\n",
       "      <th>4</th>\n",
       "      <td>3448</td>\n",
       "      <td>2580</td>\n",
       "      <td>64</td>\n",
       "      <td>1</td>\n",
       "      <td>2.75</td>\n",
       "    </tr>\n",
       "    <tr>\n",
       "      <th>5</th>\n",
       "      <td>4063</td>\n",
       "      <td>1205</td>\n",
       "      <td>41</td>\n",
       "      <td>1</td>\n",
       "      <td>19.25</td>\n",
       "    </tr>\n",
       "  </tbody>\n",
       "</table>\n",
       "</div>"
      ],
      "text/plain": [
       "   sleep  totwrk  age  male  hrwage\n",
       "0   3113    3438   32     1    7.07\n",
       "1   2920    5020   31     1    1.43\n",
       "2   2670    2815   44     1   20.53\n",
       "3   3083    3786   30     0    9.62\n",
       "4   3448    2580   64     1    2.75\n",
       "5   4063    1205   41     1   19.25"
      ]
     },
     "execution_count": 5,
     "metadata": {},
     "output_type": "execute_result"
    }
   ],
   "source": [
    "df = pd.read_csv(io.StringIO(data), sep='\\s+')\n",
    "df"
   ]
  },
  {
   "cell_type": "code",
   "execution_count": 8,
   "id": "e73bc773",
   "metadata": {},
   "outputs": [
    {
     "data": {
      "text/html": [
       "<div>\n",
       "<style scoped>\n",
       "    .dataframe tbody tr th:only-of-type {\n",
       "        vertical-align: middle;\n",
       "    }\n",
       "\n",
       "    .dataframe tbody tr th {\n",
       "        vertical-align: top;\n",
       "    }\n",
       "\n",
       "    .dataframe thead th {\n",
       "        text-align: right;\n",
       "    }\n",
       "</style>\n",
       "<table border=\"1\" class=\"dataframe\">\n",
       "  <thead>\n",
       "    <tr style=\"text-align: right;\">\n",
       "      <th></th>\n",
       "      <th>sleep</th>\n",
       "      <th>totwrk</th>\n",
       "      <th>age</th>\n",
       "      <th>male</th>\n",
       "      <th>hrwage</th>\n",
       "      <th>pred</th>\n",
       "      <th>residual</th>\n",
       "    </tr>\n",
       "  </thead>\n",
       "  <tbody>\n",
       "    <tr>\n",
       "      <th>0</th>\n",
       "      <td>3113</td>\n",
       "      <td>3438</td>\n",
       "      <td>32</td>\n",
       "      <td>1</td>\n",
       "      <td>7.07</td>\n",
       "      <td>3098.063902</td>\n",
       "      <td>53.583902</td>\n",
       "    </tr>\n",
       "    <tr>\n",
       "      <th>1</th>\n",
       "      <td>2920</td>\n",
       "      <td>5020</td>\n",
       "      <td>31</td>\n",
       "      <td>1</td>\n",
       "      <td>1.43</td>\n",
       "      <td>2827.533824</td>\n",
       "      <td>99.533824</td>\n",
       "    </tr>\n",
       "    <tr>\n",
       "      <th>2</th>\n",
       "      <td>2670</td>\n",
       "      <td>2815</td>\n",
       "      <td>44</td>\n",
       "      <td>1</td>\n",
       "      <td>20.53</td>\n",
       "      <td>3227.716246</td>\n",
       "      <td>-498.003754</td>\n",
       "    </tr>\n",
       "    <tr>\n",
       "      <th>3</th>\n",
       "      <td>3083</td>\n",
       "      <td>3786</td>\n",
       "      <td>30</td>\n",
       "      <td>0</td>\n",
       "      <td>9.62</td>\n",
       "      <td>2990.346781</td>\n",
       "      <td>137.386781</td>\n",
       "    </tr>\n",
       "    <tr>\n",
       "      <th>4</th>\n",
       "      <td>3448</td>\n",
       "      <td>2580</td>\n",
       "      <td>64</td>\n",
       "      <td>1</td>\n",
       "      <td>2.75</td>\n",
       "      <td>3277.854617</td>\n",
       "      <td>190.134617</td>\n",
       "    </tr>\n",
       "    <tr>\n",
       "      <th>5</th>\n",
       "      <td>4063</td>\n",
       "      <td>1205</td>\n",
       "      <td>41</td>\n",
       "      <td>1</td>\n",
       "      <td>19.25</td>\n",
       "      <td>3479.820209</td>\n",
       "      <td>641.620209</td>\n",
       "    </tr>\n",
       "  </tbody>\n",
       "</table>\n",
       "</div>"
      ],
      "text/plain": [
       "   sleep  totwrk  age  male  hrwage         pred    residual\n",
       "0   3113    3438   32     1    7.07  3098.063902   53.583902\n",
       "1   2920    5020   31     1    1.43  2827.533824   99.533824\n",
       "2   2670    2815   44     1   20.53  3227.716246 -498.003754\n",
       "3   3083    3786   30     0    9.62  2990.346781  137.386781\n",
       "4   3448    2580   64     1    2.75  3277.854617  190.134617\n",
       "5   4063    1205   41     1   19.25  3479.820209  641.620209"
      ]
     },
     "execution_count": 8,
     "metadata": {},
     "output_type": "execute_result"
    }
   ],
   "source": [
    "df['pred'] = 3525.14 + df['totwrk'] * (-0.16) + df['age'] * (1.62) + df['male']*(51.84)+np.log(df['hrwage'])*(+9.88)\n",
    "df"
   ]
  },
  {
   "cell_type": "code",
   "execution_count": 9,
   "id": "a1796063",
   "metadata": {},
   "outputs": [
    {
     "data": {
      "text/html": [
       "<div>\n",
       "<style scoped>\n",
       "    .dataframe tbody tr th:only-of-type {\n",
       "        vertical-align: middle;\n",
       "    }\n",
       "\n",
       "    .dataframe tbody tr th {\n",
       "        vertical-align: top;\n",
       "    }\n",
       "\n",
       "    .dataframe thead th {\n",
       "        text-align: right;\n",
       "    }\n",
       "</style>\n",
       "<table border=\"1\" class=\"dataframe\">\n",
       "  <thead>\n",
       "    <tr style=\"text-align: right;\">\n",
       "      <th></th>\n",
       "      <th>sleep</th>\n",
       "      <th>totwrk</th>\n",
       "      <th>age</th>\n",
       "      <th>male</th>\n",
       "      <th>hrwage</th>\n",
       "      <th>pred</th>\n",
       "      <th>residual</th>\n",
       "    </tr>\n",
       "  </thead>\n",
       "  <tbody>\n",
       "    <tr>\n",
       "      <th>0</th>\n",
       "      <td>3113</td>\n",
       "      <td>3438</td>\n",
       "      <td>32</td>\n",
       "      <td>1</td>\n",
       "      <td>7.07</td>\n",
       "      <td>3098.063902</td>\n",
       "      <td>14.936098</td>\n",
       "    </tr>\n",
       "    <tr>\n",
       "      <th>1</th>\n",
       "      <td>2920</td>\n",
       "      <td>5020</td>\n",
       "      <td>31</td>\n",
       "      <td>1</td>\n",
       "      <td>1.43</td>\n",
       "      <td>2827.533824</td>\n",
       "      <td>92.466176</td>\n",
       "    </tr>\n",
       "    <tr>\n",
       "      <th>2</th>\n",
       "      <td>2670</td>\n",
       "      <td>2815</td>\n",
       "      <td>44</td>\n",
       "      <td>1</td>\n",
       "      <td>20.53</td>\n",
       "      <td>3227.716246</td>\n",
       "      <td>-557.716246</td>\n",
       "    </tr>\n",
       "    <tr>\n",
       "      <th>3</th>\n",
       "      <td>3083</td>\n",
       "      <td>3786</td>\n",
       "      <td>30</td>\n",
       "      <td>0</td>\n",
       "      <td>9.62</td>\n",
       "      <td>2990.346781</td>\n",
       "      <td>92.653219</td>\n",
       "    </tr>\n",
       "    <tr>\n",
       "      <th>4</th>\n",
       "      <td>3448</td>\n",
       "      <td>2580</td>\n",
       "      <td>64</td>\n",
       "      <td>1</td>\n",
       "      <td>2.75</td>\n",
       "      <td>3277.854617</td>\n",
       "      <td>170.145383</td>\n",
       "    </tr>\n",
       "    <tr>\n",
       "      <th>5</th>\n",
       "      <td>4063</td>\n",
       "      <td>1205</td>\n",
       "      <td>41</td>\n",
       "      <td>1</td>\n",
       "      <td>19.25</td>\n",
       "      <td>3479.820209</td>\n",
       "      <td>583.179791</td>\n",
       "    </tr>\n",
       "  </tbody>\n",
       "</table>\n",
       "</div>"
      ],
      "text/plain": [
       "   sleep  totwrk  age  male  hrwage         pred    residual\n",
       "0   3113    3438   32     1    7.07  3098.063902   14.936098\n",
       "1   2920    5020   31     1    1.43  2827.533824   92.466176\n",
       "2   2670    2815   44     1   20.53  3227.716246 -557.716246\n",
       "3   3083    3786   30     0    9.62  2990.346781   92.653219\n",
       "4   3448    2580   64     1    2.75  3277.854617  170.145383\n",
       "5   4063    1205   41     1   19.25  3479.820209  583.179791"
      ]
     },
     "execution_count": 9,
     "metadata": {},
     "output_type": "execute_result"
    }
   ],
   "source": [
    "df['residual'] = df['sleep']-df['pred']\n",
    "df"
   ]
  },
  {
   "cell_type": "markdown",
   "id": "fe9c4407",
   "metadata": {},
   "source": [
    "## Задача 1.1.2"
   ]
  },
  {
   "cell_type": "code",
   "execution_count": 10,
   "id": "056f7323",
   "metadata": {},
   "outputs": [],
   "source": [
    "data = '''output capital labour\n",
    "9.25    2.61    184  \n",
    "3.66    1.32     91  \n",
    "28.78   22.09   426  \n",
    "4.12    10.74    72  \n",
    "2.89    1.16     46  '''"
   ]
  },
  {
   "cell_type": "code",
   "execution_count": 11,
   "id": "1f5dce04",
   "metadata": {},
   "outputs": [
    {
     "data": {
      "text/plain": [
       "'output capital labour\\n9.25    2.61    184  \\n3.66    1.32     91  \\n28.78   22.09   426  \\n4.12    10.74    72  \\n2.89    1.16     46  '"
      ]
     },
     "execution_count": 11,
     "metadata": {},
     "output_type": "execute_result"
    }
   ],
   "source": [
    "data"
   ]
  },
  {
   "cell_type": "code",
   "execution_count": 12,
   "id": "a225f9ea",
   "metadata": {},
   "outputs": [
    {
     "data": {
      "text/html": [
       "<div>\n",
       "<style scoped>\n",
       "    .dataframe tbody tr th:only-of-type {\n",
       "        vertical-align: middle;\n",
       "    }\n",
       "\n",
       "    .dataframe tbody tr th {\n",
       "        vertical-align: top;\n",
       "    }\n",
       "\n",
       "    .dataframe thead th {\n",
       "        text-align: right;\n",
       "    }\n",
       "</style>\n",
       "<table border=\"1\" class=\"dataframe\">\n",
       "  <thead>\n",
       "    <tr style=\"text-align: right;\">\n",
       "      <th></th>\n",
       "      <th>output</th>\n",
       "      <th>capital</th>\n",
       "      <th>labour</th>\n",
       "    </tr>\n",
       "  </thead>\n",
       "  <tbody>\n",
       "    <tr>\n",
       "      <th>0</th>\n",
       "      <td>9.25</td>\n",
       "      <td>2.61</td>\n",
       "      <td>184</td>\n",
       "    </tr>\n",
       "    <tr>\n",
       "      <th>1</th>\n",
       "      <td>3.66</td>\n",
       "      <td>1.32</td>\n",
       "      <td>91</td>\n",
       "    </tr>\n",
       "    <tr>\n",
       "      <th>2</th>\n",
       "      <td>28.78</td>\n",
       "      <td>22.09</td>\n",
       "      <td>426</td>\n",
       "    </tr>\n",
       "    <tr>\n",
       "      <th>3</th>\n",
       "      <td>4.12</td>\n",
       "      <td>10.74</td>\n",
       "      <td>72</td>\n",
       "    </tr>\n",
       "    <tr>\n",
       "      <th>4</th>\n",
       "      <td>2.89</td>\n",
       "      <td>1.16</td>\n",
       "      <td>46</td>\n",
       "    </tr>\n",
       "  </tbody>\n",
       "</table>\n",
       "</div>"
      ],
      "text/plain": [
       "   output  capital  labour\n",
       "0    9.25     2.61     184\n",
       "1    3.66     1.32      91\n",
       "2   28.78    22.09     426\n",
       "3    4.12    10.74      72\n",
       "4    2.89     1.16      46"
      ]
     },
     "execution_count": 12,
     "metadata": {},
     "output_type": "execute_result"
    }
   ],
   "source": [
    "df = pd.read_csv(io.StringIO(data), sep='\\s+')\n",
    "df"
   ]
  },
  {
   "cell_type": "code",
   "execution_count": 13,
   "id": "49e83ef8",
   "metadata": {},
   "outputs": [
    {
     "data": {
      "text/html": [
       "<div>\n",
       "<style scoped>\n",
       "    .dataframe tbody tr th:only-of-type {\n",
       "        vertical-align: middle;\n",
       "    }\n",
       "\n",
       "    .dataframe tbody tr th {\n",
       "        vertical-align: top;\n",
       "    }\n",
       "\n",
       "    .dataframe thead th {\n",
       "        text-align: right;\n",
       "    }\n",
       "</style>\n",
       "<table border=\"1\" class=\"dataframe\">\n",
       "  <thead>\n",
       "    <tr style=\"text-align: right;\">\n",
       "      <th></th>\n",
       "      <th>output</th>\n",
       "      <th>capital</th>\n",
       "      <th>labour</th>\n",
       "      <th>pred</th>\n",
       "    </tr>\n",
       "  </thead>\n",
       "  <tbody>\n",
       "    <tr>\n",
       "      <th>0</th>\n",
       "      <td>9.25</td>\n",
       "      <td>2.61</td>\n",
       "      <td>184</td>\n",
       "      <td>2.194068</td>\n",
       "    </tr>\n",
       "    <tr>\n",
       "      <th>1</th>\n",
       "      <td>3.66</td>\n",
       "      <td>1.32</td>\n",
       "      <td>91</td>\n",
       "      <td>1.551013</td>\n",
       "    </tr>\n",
       "    <tr>\n",
       "      <th>2</th>\n",
       "      <td>28.78</td>\n",
       "      <td>22.09</td>\n",
       "      <td>426</td>\n",
       "      <td>3.238628</td>\n",
       "    </tr>\n",
       "    <tr>\n",
       "      <th>3</th>\n",
       "      <td>4.12</td>\n",
       "      <td>10.74</td>\n",
       "      <td>72</td>\n",
       "      <td>1.824968</td>\n",
       "    </tr>\n",
       "    <tr>\n",
       "      <th>4</th>\n",
       "      <td>2.89</td>\n",
       "      <td>1.16</td>\n",
       "      <td>46</td>\n",
       "      <td>1.039504</td>\n",
       "    </tr>\n",
       "  </tbody>\n",
       "</table>\n",
       "</div>"
      ],
      "text/plain": [
       "   output  capital  labour      pred\n",
       "0    9.25     2.61     184  2.194068\n",
       "1    3.66     1.32      91  1.551013\n",
       "2   28.78    22.09     426  3.238628\n",
       "3    4.12    10.74      72  1.824968\n",
       "4    2.89     1.16      46  1.039504"
      ]
     },
     "execution_count": 13,
     "metadata": {},
     "output_type": "execute_result"
    }
   ],
   "source": [
    "df['pred'] = -1.71 + np.log(df['capital'])*(0.21) + np.log(df['labour'])*(0.71)\n",
    "df"
   ]
  },
  {
   "cell_type": "code",
   "execution_count": 14,
   "id": "6a8e9adb",
   "metadata": {},
   "outputs": [
    {
     "data": {
      "text/html": [
       "<div>\n",
       "<style scoped>\n",
       "    .dataframe tbody tr th:only-of-type {\n",
       "        vertical-align: middle;\n",
       "    }\n",
       "\n",
       "    .dataframe tbody tr th {\n",
       "        vertical-align: top;\n",
       "    }\n",
       "\n",
       "    .dataframe thead th {\n",
       "        text-align: right;\n",
       "    }\n",
       "</style>\n",
       "<table border=\"1\" class=\"dataframe\">\n",
       "  <thead>\n",
       "    <tr style=\"text-align: right;\">\n",
       "      <th></th>\n",
       "      <th>output</th>\n",
       "      <th>capital</th>\n",
       "      <th>labour</th>\n",
       "      <th>pred</th>\n",
       "      <th>residual</th>\n",
       "    </tr>\n",
       "  </thead>\n",
       "  <tbody>\n",
       "    <tr>\n",
       "      <th>0</th>\n",
       "      <td>9.25</td>\n",
       "      <td>2.61</td>\n",
       "      <td>184</td>\n",
       "      <td>2.194068</td>\n",
       "      <td>0.030556</td>\n",
       "    </tr>\n",
       "    <tr>\n",
       "      <th>1</th>\n",
       "      <td>3.66</td>\n",
       "      <td>1.32</td>\n",
       "      <td>91</td>\n",
       "      <td>1.551013</td>\n",
       "      <td>-0.253550</td>\n",
       "    </tr>\n",
       "    <tr>\n",
       "      <th>2</th>\n",
       "      <td>28.78</td>\n",
       "      <td>22.09</td>\n",
       "      <td>426</td>\n",
       "      <td>3.238628</td>\n",
       "      <td>0.121053</td>\n",
       "    </tr>\n",
       "    <tr>\n",
       "      <th>3</th>\n",
       "      <td>4.12</td>\n",
       "      <td>10.74</td>\n",
       "      <td>72</td>\n",
       "      <td>1.824968</td>\n",
       "      <td>-0.409115</td>\n",
       "    </tr>\n",
       "    <tr>\n",
       "      <th>4</th>\n",
       "      <td>2.89</td>\n",
       "      <td>1.16</td>\n",
       "      <td>46</td>\n",
       "      <td>1.039504</td>\n",
       "      <td>0.021753</td>\n",
       "    </tr>\n",
       "  </tbody>\n",
       "</table>\n",
       "</div>"
      ],
      "text/plain": [
       "   output  capital  labour      pred  residual\n",
       "0    9.25     2.61     184  2.194068  0.030556\n",
       "1    3.66     1.32      91  1.551013 -0.253550\n",
       "2   28.78    22.09     426  3.238628  0.121053\n",
       "3    4.12    10.74      72  1.824968 -0.409115\n",
       "4    2.89     1.16      46  1.039504  0.021753"
      ]
     },
     "execution_count": 14,
     "metadata": {},
     "output_type": "execute_result"
    }
   ],
   "source": [
    "df['residual'] = np.log(df['output'])-df['pred']\n",
    "df"
   ]
  },
  {
   "cell_type": "markdown",
   "id": "c058861b",
   "metadata": {},
   "source": [
    "## Задача 1.2.1\n"
   ]
  },
  {
   "cell_type": "code",
   "execution_count": 15,
   "id": "f9a49691",
   "metadata": {},
   "outputs": [],
   "source": [
    "TSS=100.35\n",
    "ESS=47.56"
   ]
  },
  {
   "cell_type": "code",
   "execution_count": 16,
   "id": "dab8c5a8",
   "metadata": {},
   "outputs": [
    {
     "data": {
      "text/plain": [
       "52.78999999999999"
      ]
     },
     "execution_count": 16,
     "metadata": {},
     "output_type": "execute_result"
    }
   ],
   "source": [
    "RSS=TSS-ESS\n",
    "RSS"
   ]
  },
  {
   "cell_type": "markdown",
   "id": "ad9a3e40",
   "metadata": {},
   "source": [
    "$$\n",
    "R^2= \\frac{ESS}{TSS}= 1-\\frac{RSS}{TSS}\n",
    "$$"
   ]
  },
  {
   "cell_type": "code",
   "execution_count": 18,
   "id": "8b5aeaa8",
   "metadata": {},
   "outputs": [
    {
     "data": {
      "text/plain": [
       "0.47394120577977084"
      ]
     },
     "execution_count": 18,
     "metadata": {},
     "output_type": "execute_result"
    }
   ],
   "source": [
    "R2=ESS/TSS\n",
    "R2"
   ]
  },
  {
   "cell_type": "markdown",
   "id": "d4103be6",
   "metadata": {},
   "source": [
    "## Задача 1.2.2"
   ]
  },
  {
   "cell_type": "code",
   "execution_count": 19,
   "id": "600fba4c",
   "metadata": {},
   "outputs": [
    {
     "data": {
      "text/plain": [
       "147.3"
      ]
     },
     "execution_count": 19,
     "metadata": {},
     "output_type": "execute_result"
    }
   ],
   "source": [
    "ESS = 240.82 - 93.52\n",
    "ESS"
   ]
  },
  {
   "cell_type": "markdown",
   "id": "f16f03ae",
   "metadata": {},
   "source": [
    "### Домашняя работа \n",
    "## Задача 1.2.4"
   ]
  },
  {
   "cell_type": "code",
   "execution_count": 20,
   "id": "65864f1e",
   "metadata": {},
   "outputs": [],
   "source": [
    "import numpy as np\n",
    "import pandas as pd\n",
    "import io\n",
    "import statsmodels.formula.api as smf"
   ]
  },
  {
   "cell_type": "code",
   "execution_count": 22,
   "id": "dafebf4c",
   "metadata": {},
   "outputs": [
    {
     "data": {
      "text/html": [
       "<div>\n",
       "<style scoped>\n",
       "    .dataframe tbody tr th:only-of-type {\n",
       "        vertical-align: middle;\n",
       "    }\n",
       "\n",
       "    .dataframe tbody tr th {\n",
       "        vertical-align: top;\n",
       "    }\n",
       "\n",
       "    .dataframe thead th {\n",
       "        text-align: right;\n",
       "    }\n",
       "</style>\n",
       "<table border=\"1\" class=\"dataframe\">\n",
       "  <thead>\n",
       "    <tr style=\"text-align: right;\">\n",
       "      <th></th>\n",
       "      <th>остаток</th>\n",
       "    </tr>\n",
       "  </thead>\n",
       "  <tbody>\n",
       "    <tr>\n",
       "      <th>0</th>\n",
       "      <td>-0.24</td>\n",
       "    </tr>\n",
       "    <tr>\n",
       "      <th>1</th>\n",
       "      <td>0.41</td>\n",
       "    </tr>\n",
       "    <tr>\n",
       "      <th>2</th>\n",
       "      <td>1.22</td>\n",
       "    </tr>\n",
       "    <tr>\n",
       "      <th>3</th>\n",
       "      <td>-0.93</td>\n",
       "    </tr>\n",
       "    <tr>\n",
       "      <th>4</th>\n",
       "      <td>-0.37</td>\n",
       "    </tr>\n",
       "    <tr>\n",
       "      <th>5</th>\n",
       "      <td>-1.33</td>\n",
       "    </tr>\n",
       "    <tr>\n",
       "      <th>6</th>\n",
       "      <td>0.16</td>\n",
       "    </tr>\n",
       "    <tr>\n",
       "      <th>7</th>\n",
       "      <td>-0.27</td>\n",
       "    </tr>\n",
       "    <tr>\n",
       "      <th>8</th>\n",
       "      <td>0.06</td>\n",
       "    </tr>\n",
       "    <tr>\n",
       "      <th>9</th>\n",
       "      <td>1.29</td>\n",
       "    </tr>\n",
       "  </tbody>\n",
       "</table>\n",
       "</div>"
      ],
      "text/plain": [
       "   остаток\n",
       "0    -0.24\n",
       "1     0.41\n",
       "2     1.22\n",
       "3    -0.93\n",
       "4    -0.37\n",
       "5    -1.33\n",
       "6     0.16\n",
       "7    -0.27\n",
       "8     0.06\n",
       "9     1.29"
      ]
     },
     "execution_count": 22,
     "metadata": {},
     "output_type": "execute_result"
    }
   ],
   "source": [
    "aa = '''остаток \n",
    "-0.24  \n",
    "0.41  \n",
    "1.22 \n",
    "-0.93 \n",
    "-0.37 \n",
    "-1.33  \n",
    "0.16 \n",
    "-0.27  \n",
    "0.06  \n",
    "1.29'''\n",
    "df = pd.read_csv(io.StringIO(aa), sep='\\s+')\n",
    "df"
   ]
  },
  {
   "cell_type": "code",
   "execution_count": 23,
   "id": "16d2ffbe",
   "metadata": {},
   "outputs": [
    {
     "data": {
      "text/plain": [
       "остаток    6.25\n",
       "dtype: float64"
      ]
     },
     "execution_count": 23,
     "metadata": {},
     "output_type": "execute_result"
    }
   ],
   "source": [
    "RSS = np.sum((df)**2)\n",
    "round (RSS, 2)"
   ]
  },
  {
   "cell_type": "code",
   "execution_count": 24,
   "id": "b8d2cf71",
   "metadata": {},
   "outputs": [
    {
     "data": {
      "text/plain": [
       "остаток    0.88\n",
       "dtype: float64"
      ]
     },
     "execution_count": 24,
     "metadata": {},
     "output_type": "execute_result"
    }
   ],
   "source": [
    "s = (RSS/(10-2))**0.5\n",
    "round (s, 2)\n"
   ]
  },
  {
   "cell_type": "markdown",
   "id": "4ebefe4d",
   "metadata": {},
   "source": [
    "### Задача 1.2.5"
   ]
  },
  {
   "cell_type": "code",
   "execution_count": 30,
   "id": "7277a40e",
   "metadata": {},
   "outputs": [
    {
     "data": {
      "text/plain": [
       "'sleep/60 totwrk age y.hat\\n51.88     3438  32  51.00\\n48.67     5020  31  44.43\\n44.50     2815  44  53.72\\n51.38     3786  30  49.53\\n57.47     2580  64  54.92\\n67.72     1205  41  60.36\\n53        2113  35  56.53\\n48.80     3608  47  50.46\\n56.13     2353  32  55.50\\n50.30     2851  30  53.41'"
      ]
     },
     "execution_count": 30,
     "metadata": {},
     "output_type": "execute_result"
    }
   ],
   "source": [
    "data = '''sleep/60 totwrk age y.hat\n",
    "51.88     3438  32  51.00\n",
    "48.67     5020  31  44.43\n",
    "44.50     2815  44  53.72\n",
    "51.38     3786  30  49.53\n",
    "57.47     2580  64  54.92\n",
    "67.72     1205  41  60.36\n",
    "53        2113  35  56.53\n",
    "48.80     3608  47  50.46\n",
    "56.13     2353  32  55.50\n",
    "50.30     2851  30  53.41'''\n",
    "data"
   ]
  },
  {
   "cell_type": "code",
   "execution_count": 31,
   "id": "4841ed29",
   "metadata": {},
   "outputs": [
    {
     "data": {
      "text/html": [
       "<div>\n",
       "<style scoped>\n",
       "    .dataframe tbody tr th:only-of-type {\n",
       "        vertical-align: middle;\n",
       "    }\n",
       "\n",
       "    .dataframe tbody tr th {\n",
       "        vertical-align: top;\n",
       "    }\n",
       "\n",
       "    .dataframe thead th {\n",
       "        text-align: right;\n",
       "    }\n",
       "</style>\n",
       "<table border=\"1\" class=\"dataframe\">\n",
       "  <thead>\n",
       "    <tr style=\"text-align: right;\">\n",
       "      <th></th>\n",
       "      <th>sleep/60</th>\n",
       "      <th>totwrk</th>\n",
       "      <th>age</th>\n",
       "      <th>y.hat</th>\n",
       "    </tr>\n",
       "  </thead>\n",
       "  <tbody>\n",
       "    <tr>\n",
       "      <th>0</th>\n",
       "      <td>51.88</td>\n",
       "      <td>3438</td>\n",
       "      <td>32</td>\n",
       "      <td>51.00</td>\n",
       "    </tr>\n",
       "    <tr>\n",
       "      <th>1</th>\n",
       "      <td>48.67</td>\n",
       "      <td>5020</td>\n",
       "      <td>31</td>\n",
       "      <td>44.43</td>\n",
       "    </tr>\n",
       "    <tr>\n",
       "      <th>2</th>\n",
       "      <td>44.50</td>\n",
       "      <td>2815</td>\n",
       "      <td>44</td>\n",
       "      <td>53.72</td>\n",
       "    </tr>\n",
       "    <tr>\n",
       "      <th>3</th>\n",
       "      <td>51.38</td>\n",
       "      <td>3786</td>\n",
       "      <td>30</td>\n",
       "      <td>49.53</td>\n",
       "    </tr>\n",
       "    <tr>\n",
       "      <th>4</th>\n",
       "      <td>57.47</td>\n",
       "      <td>2580</td>\n",
       "      <td>64</td>\n",
       "      <td>54.92</td>\n",
       "    </tr>\n",
       "    <tr>\n",
       "      <th>5</th>\n",
       "      <td>67.72</td>\n",
       "      <td>1205</td>\n",
       "      <td>41</td>\n",
       "      <td>60.36</td>\n",
       "    </tr>\n",
       "    <tr>\n",
       "      <th>6</th>\n",
       "      <td>53.00</td>\n",
       "      <td>2113</td>\n",
       "      <td>35</td>\n",
       "      <td>56.53</td>\n",
       "    </tr>\n",
       "    <tr>\n",
       "      <th>7</th>\n",
       "      <td>48.80</td>\n",
       "      <td>3608</td>\n",
       "      <td>47</td>\n",
       "      <td>50.46</td>\n",
       "    </tr>\n",
       "    <tr>\n",
       "      <th>8</th>\n",
       "      <td>56.13</td>\n",
       "      <td>2353</td>\n",
       "      <td>32</td>\n",
       "      <td>55.50</td>\n",
       "    </tr>\n",
       "    <tr>\n",
       "      <th>9</th>\n",
       "      <td>50.30</td>\n",
       "      <td>2851</td>\n",
       "      <td>30</td>\n",
       "      <td>53.41</td>\n",
       "    </tr>\n",
       "  </tbody>\n",
       "</table>\n",
       "</div>"
      ],
      "text/plain": [
       "   sleep/60  totwrk  age  y.hat\n",
       "0     51.88    3438   32  51.00\n",
       "1     48.67    5020   31  44.43\n",
       "2     44.50    2815   44  53.72\n",
       "3     51.38    3786   30  49.53\n",
       "4     57.47    2580   64  54.92\n",
       "5     67.72    1205   41  60.36\n",
       "6     53.00    2113   35  56.53\n",
       "7     48.80    3608   47  50.46\n",
       "8     56.13    2353   32  55.50\n",
       "9     50.30    2851   30  53.41"
      ]
     },
     "execution_count": 31,
     "metadata": {},
     "output_type": "execute_result"
    }
   ],
   "source": [
    "df = pd.read_csv(io.StringIO(data), sep='\\s+')\n",
    "df"
   ]
  },
  {
   "cell_type": "code",
   "execution_count": 33,
   "id": "93a44be5",
   "metadata": {},
   "outputs": [
    {
     "data": {
      "text/plain": [
       "366.26"
      ]
     },
     "execution_count": 33,
     "metadata": {},
     "output_type": "execute_result"
    }
   ],
   "source": [
    "TSS = ((df['sleep/60'] - np.mean(df['sleep/60']))**2).sum()\n",
    "TSS.round(2)"
   ]
  },
  {
   "cell_type": "code",
   "execution_count": 34,
   "id": "e51388bd",
   "metadata": {},
   "outputs": [
    {
     "data": {
      "text/plain": [
       "193.14"
      ]
     },
     "execution_count": 34,
     "metadata": {},
     "output_type": "execute_result"
    }
   ],
   "source": [
    "RSS = ((df['sleep/60'] - df['y.hat'])**2).sum()\n",
    "RSS.round(2)"
   ]
  },
  {
   "cell_type": "code",
   "execution_count": 35,
   "id": "bb176fa3",
   "metadata": {},
   "outputs": [
    {
     "data": {
      "text/plain": [
       "173.12"
      ]
     },
     "execution_count": 35,
     "metadata": {},
     "output_type": "execute_result"
    }
   ],
   "source": [
    "ESS = TSS-RSS\n",
    "ESS.round(2)"
   ]
  },
  {
   "cell_type": "markdown",
   "id": "f7281c32",
   "metadata": {},
   "source": [
    "### Задача 1.2.6"
   ]
  },
  {
   "cell_type": "code",
   "execution_count": 36,
   "id": "f7507fe2",
   "metadata": {},
   "outputs": [
    {
     "data": {
      "text/html": [
       "<div>\n",
       "<style scoped>\n",
       "    .dataframe tbody tr th:only-of-type {\n",
       "        vertical-align: middle;\n",
       "    }\n",
       "\n",
       "    .dataframe tbody tr th {\n",
       "        vertical-align: top;\n",
       "    }\n",
       "\n",
       "    .dataframe thead th {\n",
       "        text-align: right;\n",
       "    }\n",
       "</style>\n",
       "<table border=\"1\" class=\"dataframe\">\n",
       "  <thead>\n",
       "    <tr style=\"text-align: right;\">\n",
       "      <th></th>\n",
       "      <th>log(output)</th>\n",
       "      <th>log(capital)</th>\n",
       "      <th>log(labour)</th>\n",
       "      <th>y.hat</th>\n",
       "    </tr>\n",
       "  </thead>\n",
       "  <tbody>\n",
       "    <tr>\n",
       "      <th>0</th>\n",
       "      <td>2.22</td>\n",
       "      <td>0.96</td>\n",
       "      <td>5.21</td>\n",
       "      <td>2.19</td>\n",
       "    </tr>\n",
       "    <tr>\n",
       "      <th>1</th>\n",
       "      <td>1.30</td>\n",
       "      <td>0.28</td>\n",
       "      <td>4.51</td>\n",
       "      <td>1.47</td>\n",
       "    </tr>\n",
       "    <tr>\n",
       "      <th>2</th>\n",
       "      <td>3.36</td>\n",
       "      <td>3.10</td>\n",
       "      <td>6.05</td>\n",
       "      <td>3.23</td>\n",
       "    </tr>\n",
       "    <tr>\n",
       "      <th>3</th>\n",
       "      <td>1.42</td>\n",
       "      <td>2.37</td>\n",
       "      <td>4.28</td>\n",
       "      <td>1.56</td>\n",
       "    </tr>\n",
       "    <tr>\n",
       "      <th>4</th>\n",
       "      <td>1.06</td>\n",
       "      <td>0.15</td>\n",
       "      <td>3.83</td>\n",
       "      <td>0.85</td>\n",
       "    </tr>\n",
       "    <tr>\n",
       "      <th>5</th>\n",
       "      <td>6.17</td>\n",
       "      <td>5.62</td>\n",
       "      <td>8.94</td>\n",
       "      <td>6.15</td>\n",
       "    </tr>\n",
       "    <tr>\n",
       "      <th>6</th>\n",
       "      <td>0.77</td>\n",
       "      <td>0.52</td>\n",
       "      <td>3.87</td>\n",
       "      <td>0.94</td>\n",
       "    </tr>\n",
       "    <tr>\n",
       "      <th>7</th>\n",
       "      <td>1.42</td>\n",
       "      <td>0.15</td>\n",
       "      <td>4.68</td>\n",
       "      <td>1.61</td>\n",
       "    </tr>\n",
       "    <tr>\n",
       "      <th>8</th>\n",
       "      <td>0.90</td>\n",
       "      <td>-0.13</td>\n",
       "      <td>3.56</td>\n",
       "      <td>0.57</td>\n",
       "    </tr>\n",
       "    <tr>\n",
       "      <th>9</th>\n",
       "      <td>1.35</td>\n",
       "      <td>1.25</td>\n",
       "      <td>4.28</td>\n",
       "      <td>1.40</td>\n",
       "    </tr>\n",
       "  </tbody>\n",
       "</table>\n",
       "</div>"
      ],
      "text/plain": [
       "   log(output)  log(capital)  log(labour)  y.hat\n",
       "0         2.22          0.96         5.21   2.19\n",
       "1         1.30          0.28         4.51   1.47\n",
       "2         3.36          3.10         6.05   3.23\n",
       "3         1.42          2.37         4.28   1.56\n",
       "4         1.06          0.15         3.83   0.85\n",
       "5         6.17          5.62         8.94   6.15\n",
       "6         0.77          0.52         3.87   0.94\n",
       "7         1.42          0.15         4.68   1.61\n",
       "8         0.90         -0.13         3.56   0.57\n",
       "9         1.35          1.25         4.28   1.40"
      ]
     },
     "execution_count": 36,
     "metadata": {},
     "output_type": "execute_result"
    }
   ],
   "source": [
    "oper = '''log(output) log(capital) log(labour) y.hat\n",
    "2.22            0.96        5.21     2.19 \n",
    "1.30            0.28        4.51     1.47 \n",
    "3.36            3.10        6.05     3.23 \n",
    "1.42            2.37        4.28     1.56 \n",
    "1.06            0.15        3.83     0.85 \n",
    "6.17            5.62        8.94     6.15 \n",
    "0.77            0.52        3.87     0.94 \n",
    "1.42            0.15        4.68     1.61 \n",
    "0.90           -0.13        3.56     0.57 \n",
    "1.35            1.25        4.28     1.40 '''\n",
    "df = pd.read_csv(io.StringIO(oper), sep='\\s+')\n",
    "df"
   ]
  },
  {
   "cell_type": "code",
   "execution_count": 37,
   "id": "d2461f9b",
   "metadata": {},
   "outputs": [
    {
     "data": {
      "text/plain": [
       "24.48"
      ]
     },
     "execution_count": 37,
     "metadata": {},
     "output_type": "execute_result"
    }
   ],
   "source": [
    "TSS = ((df['log(output)'] - np.mean(df['log(output)']))**2).sum()\n",
    "TSS.round(2)"
   ]
  },
  {
   "cell_type": "code",
   "execution_count": 38,
   "id": "e1535f13",
   "metadata": {},
   "outputs": [
    {
     "data": {
      "text/plain": [
       "0.29"
      ]
     },
     "execution_count": 38,
     "metadata": {},
     "output_type": "execute_result"
    }
   ],
   "source": [
    "RSS = ((df['log(output)'] - df['y.hat'])**2).sum()\n",
    "RSS.round(2)"
   ]
  },
  {
   "cell_type": "code",
   "execution_count": 39,
   "id": "26163a9f",
   "metadata": {},
   "outputs": [
    {
     "data": {
      "text/plain": [
       "24.19"
      ]
     },
     "execution_count": 39,
     "metadata": {},
     "output_type": "execute_result"
    }
   ],
   "source": [
    "ESS = TSS-RSS\n",
    "ESS.round(2)"
   ]
  },
  {
   "cell_type": "markdown",
   "id": "95a522ce",
   "metadata": {},
   "source": [
    "### Задача 1.2.7"
   ]
  },
  {
   "cell_type": "code",
   "execution_count": 41,
   "id": "7641148f",
   "metadata": {},
   "outputs": [
    {
     "data": {
      "text/plain": [
       "132.739"
      ]
     },
     "execution_count": 41,
     "metadata": {},
     "output_type": "execute_result"
    }
   ],
   "source": [
    "RSE = 0.378\n",
    "n = 935\n",
    "m = 6\n",
    "RSS = RSE**2*(n-m)\n",
    "round(RSS, 3)"
   ]
  },
  {
   "cell_type": "markdown",
   "id": "0635bc29",
   "metadata": {},
   "source": [
    "### Задача 1.2.8 "
   ]
  },
  {
   "cell_type": "code",
   "execution_count": 43,
   "id": "644be6f4",
   "metadata": {},
   "outputs": [
    {
     "data": {
      "text/plain": [
       "165.962"
      ]
     },
     "execution_count": 43,
     "metadata": {},
     "output_type": "execute_result"
    }
   ],
   "source": [
    "RSE = 0.383\n",
    "R2 = 0.178\n",
    "n = 935\n",
    "m = 5\n",
    "RSS = RSE**2*(n-m)\n",
    "TSS = RSS/(1-R2)\n",
    "round(TSS, 3)"
   ]
  },
  {
   "cell_type": "markdown",
   "id": "aa2ff260",
   "metadata": {},
   "source": [
    "### задача 1.2.9"
   ]
  },
  {
   "cell_type": "code",
   "execution_count": 44,
   "id": "2a0bf1d1",
   "metadata": {},
   "outputs": [
    {
     "data": {
      "text/plain": [
       "24.666"
      ]
     },
     "execution_count": 44,
     "metadata": {},
     "output_type": "execute_result"
    }
   ],
   "source": [
    "RSE = 0.389\n",
    "R2 = 0.149\n",
    "n = 935\n",
    "m = 4\n",
    "RSS = RSE**2*(n-m)\n",
    "TSS = RSS/(1-R2)\n",
    "ESS = TSS - RSS\n",
    "round(ESS, 3)"
   ]
  },
  {
   "cell_type": "markdown",
   "id": "55f2f473",
   "metadata": {},
   "source": [
    "### Задача 2.1"
   ]
  },
  {
   "cell_type": "markdown",
   "id": "717a4ea6",
   "metadata": {},
   "source": [
    "n -- количество измерений\n",
    "k -- количество регрессов \n",
    "$$\n",
    "R^2_{adj}=1-(1-R^2)*\\frac{n-1}{n-k}\n",
    "$$"
   ]
  },
  {
   "cell_type": "code",
   "execution_count": 47,
   "id": "680c84cc",
   "metadata": {},
   "outputs": [
    {
     "data": {
      "text/plain": [
       "0.2825335892514397"
      ]
     },
     "execution_count": 47,
     "metadata": {},
     "output_type": "execute_result"
    }
   ],
   "source": [
    "n = 526\n",
    "k=5\n",
    "R2=0.288\n",
    "R2adj=1-(1-R2)*(n-1)/(n-k)\n",
    "R2adj"
   ]
  },
  {
   "cell_type": "markdown",
   "id": "3fb0516d",
   "metadata": {},
   "source": [
    "### Задача 2.2\n"
   ]
  },
  {
   "cell_type": "code",
   "execution_count": 48,
   "id": "dd5bcac0",
   "metadata": {},
   "outputs": [
    {
     "data": {
      "text/plain": [
       "0.19756344086021504"
      ]
     },
     "execution_count": 48,
     "metadata": {},
     "output_type": "execute_result"
    }
   ],
   "source": [
    "n = 935\n",
    "k=5\n",
    "R2=0.201\n",
    "R2adj=1-(1-R2)*(n-1)/(n-k)\n",
    "R2adj"
   ]
  },
  {
   "cell_type": "markdown",
   "id": "2d010e1e",
   "metadata": {},
   "source": [
    "### Задача 2.3"
   ]
  },
  {
   "cell_type": "code",
   "execution_count": 49,
   "id": "db15e551",
   "metadata": {},
   "outputs": [
    {
     "data": {
      "text/html": [
       "<div>\n",
       "<style scoped>\n",
       "    .dataframe tbody tr th:only-of-type {\n",
       "        vertical-align: middle;\n",
       "    }\n",
       "\n",
       "    .dataframe tbody tr th {\n",
       "        vertical-align: top;\n",
       "    }\n",
       "\n",
       "    .dataframe thead th {\n",
       "        text-align: right;\n",
       "    }\n",
       "</style>\n",
       "<table border=\"1\" class=\"dataframe\">\n",
       "  <thead>\n",
       "    <tr style=\"text-align: right;\">\n",
       "      <th></th>\n",
       "      <th>sleep/60</th>\n",
       "      <th>totwrk</th>\n",
       "      <th>age</th>\n",
       "      <th>y.hat</th>\n",
       "    </tr>\n",
       "  </thead>\n",
       "  <tbody>\n",
       "    <tr>\n",
       "      <th>0</th>\n",
       "      <td>51.88</td>\n",
       "      <td>3438</td>\n",
       "      <td>32</td>\n",
       "      <td>51.00</td>\n",
       "    </tr>\n",
       "    <tr>\n",
       "      <th>1</th>\n",
       "      <td>48.67</td>\n",
       "      <td>5020</td>\n",
       "      <td>31</td>\n",
       "      <td>44.43</td>\n",
       "    </tr>\n",
       "    <tr>\n",
       "      <th>2</th>\n",
       "      <td>44.50</td>\n",
       "      <td>2815</td>\n",
       "      <td>44</td>\n",
       "      <td>53.72</td>\n",
       "    </tr>\n",
       "    <tr>\n",
       "      <th>3</th>\n",
       "      <td>51.38</td>\n",
       "      <td>3786</td>\n",
       "      <td>30</td>\n",
       "      <td>49.53</td>\n",
       "    </tr>\n",
       "    <tr>\n",
       "      <th>4</th>\n",
       "      <td>57.47</td>\n",
       "      <td>2580</td>\n",
       "      <td>64</td>\n",
       "      <td>54.92</td>\n",
       "    </tr>\n",
       "    <tr>\n",
       "      <th>5</th>\n",
       "      <td>67.72</td>\n",
       "      <td>1205</td>\n",
       "      <td>41</td>\n",
       "      <td>60.36</td>\n",
       "    </tr>\n",
       "    <tr>\n",
       "      <th>6</th>\n",
       "      <td>53.00</td>\n",
       "      <td>2113</td>\n",
       "      <td>35</td>\n",
       "      <td>56.53</td>\n",
       "    </tr>\n",
       "    <tr>\n",
       "      <th>7</th>\n",
       "      <td>48.80</td>\n",
       "      <td>3608</td>\n",
       "      <td>47</td>\n",
       "      <td>50.46</td>\n",
       "    </tr>\n",
       "    <tr>\n",
       "      <th>8</th>\n",
       "      <td>56.13</td>\n",
       "      <td>2353</td>\n",
       "      <td>32</td>\n",
       "      <td>55.50</td>\n",
       "    </tr>\n",
       "    <tr>\n",
       "      <th>9</th>\n",
       "      <td>50.30</td>\n",
       "      <td>2851</td>\n",
       "      <td>30</td>\n",
       "      <td>53.41</td>\n",
       "    </tr>\n",
       "  </tbody>\n",
       "</table>\n",
       "</div>"
      ],
      "text/plain": [
       "   sleep/60  totwrk  age  y.hat\n",
       "0     51.88    3438   32  51.00\n",
       "1     48.67    5020   31  44.43\n",
       "2     44.50    2815   44  53.72\n",
       "3     51.38    3786   30  49.53\n",
       "4     57.47    2580   64  54.92\n",
       "5     67.72    1205   41  60.36\n",
       "6     53.00    2113   35  56.53\n",
       "7     48.80    3608   47  50.46\n",
       "8     56.13    2353   32  55.50\n",
       "9     50.30    2851   30  53.41"
      ]
     },
     "execution_count": 49,
     "metadata": {},
     "output_type": "execute_result"
    }
   ],
   "source": [
    "oper = '''sleep/60 totwrk age y.hat\n",
    "51.88     3438  32  51.00\n",
    "48.67     5020  31  44.43\n",
    "44.50     2815  44  53.72\n",
    "51.38     3786  30  49.53\n",
    "57.47     2580  64  54.92\n",
    "67.72     1205  41  60.36\n",
    "53        2113  35  56.53\n",
    "48.80     3608  47  50.46\n",
    "56.13     2353  32  55.50\n",
    "50.30     2851  30  53.41 '''\n",
    "df = pd.read_csv(io.StringIO(oper), sep='\\s+')\n",
    "df"
   ]
  },
  {
   "cell_type": "code",
   "execution_count": 50,
   "id": "1a7aed2a",
   "metadata": {},
   "outputs": [
    {
     "data": {
      "text/plain": [
       "0.473"
      ]
     },
     "execution_count": 50,
     "metadata": {},
     "output_type": "execute_result"
    }
   ],
   "source": [
    "TSS = ((df['sleep/60'] - np.mean(df['sleep/60']))**2).sum()\n",
    "ESS = ((df['y.hat']- np.mean(df['sleep/60']))**2).sum()\n",
    "R2 = ESS/TSS\n",
    "R2.round(3)"
   ]
  },
  {
   "cell_type": "code",
   "execution_count": 51,
   "id": "0f35afc0",
   "metadata": {},
   "outputs": [
    {
     "data": {
      "text/plain": [
       "0.322"
      ]
     },
     "execution_count": 51,
     "metadata": {},
     "output_type": "execute_result"
    }
   ],
   "source": [
    "RSS = TSS - ESS\n",
    "n = len(df)\n",
    "k = 3\n",
    "RSS_adj = 1 - (RSS/TSS)*((n-1)/(n-k))\n",
    "RSS_adj.round(3)"
   ]
  },
  {
   "cell_type": "markdown",
   "id": "151fd259",
   "metadata": {},
   "source": [
    "### Задача 2.4"
   ]
  },
  {
   "cell_type": "code",
   "execution_count": 52,
   "id": "3e0489e3",
   "metadata": {},
   "outputs": [
    {
     "data": {
      "text/html": [
       "<div>\n",
       "<style scoped>\n",
       "    .dataframe tbody tr th:only-of-type {\n",
       "        vertical-align: middle;\n",
       "    }\n",
       "\n",
       "    .dataframe tbody tr th {\n",
       "        vertical-align: top;\n",
       "    }\n",
       "\n",
       "    .dataframe thead th {\n",
       "        text-align: right;\n",
       "    }\n",
       "</style>\n",
       "<table border=\"1\" class=\"dataframe\">\n",
       "  <thead>\n",
       "    <tr style=\"text-align: right;\">\n",
       "      <th></th>\n",
       "      <th>log(output)</th>\n",
       "      <th>log(capital)</th>\n",
       "      <th>log(labour)</th>\n",
       "      <th>y.hat</th>\n",
       "    </tr>\n",
       "  </thead>\n",
       "  <tbody>\n",
       "    <tr>\n",
       "      <th>0</th>\n",
       "      <td>2.22</td>\n",
       "      <td>0.96</td>\n",
       "      <td>5.21</td>\n",
       "      <td>2.19</td>\n",
       "    </tr>\n",
       "    <tr>\n",
       "      <th>1</th>\n",
       "      <td>1.30</td>\n",
       "      <td>0.28</td>\n",
       "      <td>4.51</td>\n",
       "      <td>1.47</td>\n",
       "    </tr>\n",
       "    <tr>\n",
       "      <th>2</th>\n",
       "      <td>3.36</td>\n",
       "      <td>3.10</td>\n",
       "      <td>6.05</td>\n",
       "      <td>3.23</td>\n",
       "    </tr>\n",
       "    <tr>\n",
       "      <th>3</th>\n",
       "      <td>1.42</td>\n",
       "      <td>2.37</td>\n",
       "      <td>4.28</td>\n",
       "      <td>1.56</td>\n",
       "    </tr>\n",
       "    <tr>\n",
       "      <th>4</th>\n",
       "      <td>1.06</td>\n",
       "      <td>0.15</td>\n",
       "      <td>3.83</td>\n",
       "      <td>0.85</td>\n",
       "    </tr>\n",
       "    <tr>\n",
       "      <th>5</th>\n",
       "      <td>6.17</td>\n",
       "      <td>5.62</td>\n",
       "      <td>8.94</td>\n",
       "      <td>6.15</td>\n",
       "    </tr>\n",
       "    <tr>\n",
       "      <th>6</th>\n",
       "      <td>0.77</td>\n",
       "      <td>0.52</td>\n",
       "      <td>3.87</td>\n",
       "      <td>0.94</td>\n",
       "    </tr>\n",
       "    <tr>\n",
       "      <th>7</th>\n",
       "      <td>1.42</td>\n",
       "      <td>0.15</td>\n",
       "      <td>4.68</td>\n",
       "      <td>1.61</td>\n",
       "    </tr>\n",
       "    <tr>\n",
       "      <th>8</th>\n",
       "      <td>0.90</td>\n",
       "      <td>-0.13</td>\n",
       "      <td>3.56</td>\n",
       "      <td>0.57</td>\n",
       "    </tr>\n",
       "    <tr>\n",
       "      <th>9</th>\n",
       "      <td>1.35</td>\n",
       "      <td>1.25</td>\n",
       "      <td>4.28</td>\n",
       "      <td>1.40</td>\n",
       "    </tr>\n",
       "  </tbody>\n",
       "</table>\n",
       "</div>"
      ],
      "text/plain": [
       "   log(output)  log(capital)  log(labour)  y.hat\n",
       "0         2.22          0.96         5.21   2.19\n",
       "1         1.30          0.28         4.51   1.47\n",
       "2         3.36          3.10         6.05   3.23\n",
       "3         1.42          2.37         4.28   1.56\n",
       "4         1.06          0.15         3.83   0.85\n",
       "5         6.17          5.62         8.94   6.15\n",
       "6         0.77          0.52         3.87   0.94\n",
       "7         1.42          0.15         4.68   1.61\n",
       "8         0.90         -0.13         3.56   0.57\n",
       "9         1.35          1.25         4.28   1.40"
      ]
     },
     "execution_count": 52,
     "metadata": {},
     "output_type": "execute_result"
    }
   ],
   "source": [
    "oper1 = '''log(output) log(capital) log(labour) y.hat\n",
    "2.22            0.96        5.21     2.19 \n",
    "1.30            0.28        4.51     1.47 \n",
    "3.36            3.10        6.05     3.23 \n",
    "1.42            2.37        4.28     1.56 \n",
    "1.06            0.15        3.83     0.85 \n",
    "6.17            5.62        8.94     6.15 \n",
    "0.77            0.52        3.87     0.94 \n",
    "1.42            0.15        4.68     1.61 \n",
    "0.90           -0.13        3.56     0.57 \n",
    "1.35            1.25        4.28     1.40 '''\n",
    "df = pd.read_csv(io.StringIO(oper1), sep='\\s+')\n",
    "df"
   ]
  },
  {
   "cell_type": "code",
   "execution_count": 53,
   "id": "b421d767",
   "metadata": {},
   "outputs": [
    {
     "data": {
      "text/plain": [
       "0.991"
      ]
     },
     "execution_count": 53,
     "metadata": {},
     "output_type": "execute_result"
    }
   ],
   "source": [
    "TSS = ((df['log(output)'] - np.mean(df['log(output)']))**2).sum()\n",
    "ESS = ((df['y.hat']- np.mean(df['log(output)']))**2).sum()\n",
    "R2 = ESS/TSS\n",
    "R2.round(3)"
   ]
  },
  {
   "cell_type": "code",
   "execution_count": 54,
   "id": "0877ad02",
   "metadata": {},
   "outputs": [
    {
     "data": {
      "text/plain": [
       "0.989"
      ]
     },
     "execution_count": 54,
     "metadata": {},
     "output_type": "execute_result"
    }
   ],
   "source": [
    "RSS = TSS - ESS\n",
    "n = len(df)\n",
    "k = 2\n",
    "RSS_adj = 1 - (RSS/TSS)*((n-1)/(n-k))\n",
    "RSS_adj.round(3)"
   ]
  },
  {
   "cell_type": "markdown",
   "id": "f562b985",
   "metadata": {},
   "source": [
    "### Задача 3.1"
   ]
  },
  {
   "cell_type": "code",
   "execution_count": 55,
   "id": "70d7aaba",
   "metadata": {},
   "outputs": [],
   "source": [
    "import pandas as pd\n",
    "import numpy as np\n",
    "import statsmodels.formula.api as smf\n",
    "import statsmodels.api as sm"
   ]
  },
  {
   "cell_type": "code",
   "execution_count": 60,
   "id": "5d838000",
   "metadata": {},
   "outputs": [],
   "source": [
    "sting_data = \"\"\"i   Факт  Fitted  Остаток \n",
    "1   3113 3094.454  18.546 \n",
    "4   3083 2943.580 139.420 \n",
    "6   4063 3494.143 568.857 \n",
    "10  3018 3111.983 -93.983 \n",
    "508 3630 3476.914 153.086 \n",
    "700 2993 3295.398 -302.398\"\"\""
   ]
  },
  {
   "cell_type": "code",
   "execution_count": 61,
   "id": "b40134df",
   "metadata": {},
   "outputs": [
    {
     "data": {
      "text/html": [
       "<div>\n",
       "<style scoped>\n",
       "    .dataframe tbody tr th:only-of-type {\n",
       "        vertical-align: middle;\n",
       "    }\n",
       "\n",
       "    .dataframe tbody tr th {\n",
       "        vertical-align: top;\n",
       "    }\n",
       "\n",
       "    .dataframe thead th {\n",
       "        text-align: right;\n",
       "    }\n",
       "</style>\n",
       "<table border=\"1\" class=\"dataframe\">\n",
       "  <thead>\n",
       "    <tr style=\"text-align: right;\">\n",
       "      <th></th>\n",
       "      <th>i</th>\n",
       "      <th>Факт</th>\n",
       "      <th>Fitted</th>\n",
       "      <th>Остаток</th>\n",
       "    </tr>\n",
       "  </thead>\n",
       "  <tbody>\n",
       "    <tr>\n",
       "      <th>0</th>\n",
       "      <td>1</td>\n",
       "      <td>3113</td>\n",
       "      <td>3094.454</td>\n",
       "      <td>18.546</td>\n",
       "    </tr>\n",
       "    <tr>\n",
       "      <th>1</th>\n",
       "      <td>4</td>\n",
       "      <td>3083</td>\n",
       "      <td>2943.580</td>\n",
       "      <td>139.420</td>\n",
       "    </tr>\n",
       "    <tr>\n",
       "      <th>2</th>\n",
       "      <td>6</td>\n",
       "      <td>4063</td>\n",
       "      <td>3494.143</td>\n",
       "      <td>568.857</td>\n",
       "    </tr>\n",
       "    <tr>\n",
       "      <th>3</th>\n",
       "      <td>10</td>\n",
       "      <td>3018</td>\n",
       "      <td>3111.983</td>\n",
       "      <td>-93.983</td>\n",
       "    </tr>\n",
       "    <tr>\n",
       "      <th>4</th>\n",
       "      <td>508</td>\n",
       "      <td>3630</td>\n",
       "      <td>3476.914</td>\n",
       "      <td>153.086</td>\n",
       "    </tr>\n",
       "    <tr>\n",
       "      <th>5</th>\n",
       "      <td>700</td>\n",
       "      <td>2993</td>\n",
       "      <td>3295.398</td>\n",
       "      <td>-302.398</td>\n",
       "    </tr>\n",
       "  </tbody>\n",
       "</table>\n",
       "</div>"
      ],
      "text/plain": [
       "     i  Факт    Fitted  Остаток\n",
       "0    1  3113  3094.454   18.546\n",
       "1    4  3083  2943.580  139.420\n",
       "2    6  4063  3494.143  568.857\n",
       "3   10  3018  3111.983  -93.983\n",
       "4  508  3630  3476.914  153.086\n",
       "5  700  2993  3295.398 -302.398"
      ]
     },
     "execution_count": 61,
     "metadata": {},
     "output_type": "execute_result"
    }
   ],
   "source": [
    "df = pd.read_csv(io.StringIO(sting_data), sep='\\s+')\n",
    "df"
   ]
  },
  {
   "cell_type": "code",
   "execution_count": 62,
   "id": "9da5acca",
   "metadata": {},
   "outputs": [
    {
     "data": {
      "text/plain": [
       "0    3113\n",
       "1    3083\n",
       "2    4063\n",
       "3    3018\n",
       "4    3630\n",
       "5    2993\n",
       "Name: Факт, dtype: int64"
      ]
     },
     "execution_count": 62,
     "metadata": {},
     "output_type": "execute_result"
    }
   ],
   "source": [
    "df['Факт']"
   ]
  },
  {
   "cell_type": "code",
   "execution_count": 63,
   "id": "505fc3a1",
   "metadata": {},
   "outputs": [
    {
     "data": {
      "text/plain": [
       "3316.6666666666665"
      ]
     },
     "execution_count": 63,
     "metadata": {},
     "output_type": "execute_result"
    }
   ],
   "source": [
    "df['Факт'].mean()"
   ]
  },
  {
   "cell_type": "code",
   "execution_count": 69,
   "id": "aa6185e1",
   "metadata": {},
   "outputs": [
    {
     "data": {
      "text/plain": [
       "0     41480.111111\n",
       "1     54600.111111\n",
       "2    557013.444444\n",
       "3     89201.777778\n",
       "4     98177.777778\n",
       "5    104760.111111\n",
       "Name: Факт, dtype: float64"
      ]
     },
     "execution_count": 69,
     "metadata": {},
     "output_type": "execute_result"
    }
   ],
   "source": [
    "tss=(df['Факт']-df['Факт'].mean())**2\n",
    "tss"
   ]
  },
  {
   "cell_type": "code",
   "execution_count": 75,
   "id": "401d5710",
   "metadata": {},
   "outputs": [
    {
     "data": {
      "text/plain": [
       "3236.078666666667"
      ]
     },
     "execution_count": 75,
     "metadata": {},
     "output_type": "execute_result"
    }
   ],
   "source": [
    "df['Fitted'].mean()"
   ]
  },
  {
   "cell_type": "code",
   "execution_count": 77,
   "id": "012eb1df",
   "metadata": {},
   "outputs": [
    {
     "data": {
      "text/plain": [
       "249130.39192333346"
      ]
     },
     "execution_count": 77,
     "metadata": {},
     "output_type": "execute_result"
    }
   ],
   "source": [
    "ESS=np.sum(((df['Fitted']-df['Fitted'].mean())**2))\n",
    "ESS"
   ]
  },
  {
   "cell_type": "code",
   "execution_count": 78,
   "id": "851b886b",
   "metadata": {},
   "outputs": [
    {
     "data": {
      "text/plain": [
       "696102.94141"
      ]
     },
     "execution_count": 78,
     "metadata": {},
     "output_type": "execute_result"
    }
   ],
   "source": [
    "RSS=TSS-ESS\n",
    "RSS"
   ]
  },
  {
   "cell_type": "code",
   "execution_count": 79,
   "id": "60b6f22c",
   "metadata": {},
   "outputs": [
    {
     "data": {
      "text/plain": [
       "0.2635649665937865"
      ]
     },
     "execution_count": 79,
     "metadata": {},
     "output_type": "execute_result"
    }
   ],
   "source": [
    "R2=ESS/TSS\n",
    "R2"
   ]
  },
  {
   "cell_type": "code",
   "execution_count": 80,
   "id": "f7f244a7",
   "metadata": {},
   "outputs": [
    {
     "data": {
      "text/plain": [
       "-0.8410875835155338"
      ]
     },
     "execution_count": 80,
     "metadata": {},
     "output_type": "execute_result"
    }
   ],
   "source": [
    "R2_adj=1-(1-R2)*(6-1)/(6-4)\n",
    "R2_adj"
   ]
  },
  {
   "cell_type": "markdown",
   "id": "f47deca7",
   "metadata": {},
   "source": [
    "### Задача 3.2"
   ]
  },
  {
   "cell_type": "code",
   "execution_count": 82,
   "id": "6f2632bb",
   "metadata": {},
   "outputs": [
    {
     "data": {
      "text/plain": [
       "Intercept    3460.43\n",
       "totwrk         -0.18\n",
       "age             2.28\n",
       "male           92.65\n",
       "south         168.85\n",
       "dtype: float64"
      ]
     },
     "execution_count": 82,
     "metadata": {},
     "output_type": "execute_result"
    }
   ],
   "source": [
    "df = pd.read_csv('https://github.com/artamonoff/Econometrica/raw/master/python-notebooks/data-csv/sleep75.csv')\n",
    "sleep_eq = smf.ols(formula='sleep~totwrk+age+male+south', data=df[df['smsa']==1]).fit()\n",
    "sleep_eq.params.round(2)"
   ]
  },
  {
   "cell_type": "code",
   "execution_count": 83,
   "id": "c499ae6f",
   "metadata": {},
   "outputs": [
    {
     "data": {
      "text/html": [
       "<div>\n",
       "<style scoped>\n",
       "    .dataframe tbody tr th:only-of-type {\n",
       "        vertical-align: middle;\n",
       "    }\n",
       "\n",
       "    .dataframe tbody tr th {\n",
       "        vertical-align: top;\n",
       "    }\n",
       "\n",
       "    .dataframe thead th {\n",
       "        text-align: right;\n",
       "    }\n",
       "</style>\n",
       "<table border=\"1\" class=\"dataframe\">\n",
       "  <thead>\n",
       "    <tr style=\"text-align: right;\">\n",
       "      <th></th>\n",
       "      <th>age</th>\n",
       "      <th>black</th>\n",
       "      <th>case</th>\n",
       "      <th>clerical</th>\n",
       "      <th>construc</th>\n",
       "      <th>educ</th>\n",
       "      <th>earns74</th>\n",
       "      <th>gdhlth</th>\n",
       "      <th>inlf</th>\n",
       "      <th>leis1</th>\n",
       "      <th>...</th>\n",
       "      <th>spwrk75</th>\n",
       "      <th>totwrk</th>\n",
       "      <th>union</th>\n",
       "      <th>worknrm</th>\n",
       "      <th>workscnd</th>\n",
       "      <th>exper</th>\n",
       "      <th>yngkid</th>\n",
       "      <th>yrsmarr</th>\n",
       "      <th>hrwage</th>\n",
       "      <th>agesq</th>\n",
       "    </tr>\n",
       "  </thead>\n",
       "  <tbody>\n",
       "    <tr>\n",
       "      <th>0</th>\n",
       "      <td>32</td>\n",
       "      <td>0</td>\n",
       "      <td>1</td>\n",
       "      <td>0.000000</td>\n",
       "      <td>0.000000</td>\n",
       "      <td>12</td>\n",
       "      <td>0</td>\n",
       "      <td>0</td>\n",
       "      <td>1</td>\n",
       "      <td>3529</td>\n",
       "      <td>...</td>\n",
       "      <td>0</td>\n",
       "      <td>3438</td>\n",
       "      <td>0</td>\n",
       "      <td>3438</td>\n",
       "      <td>0</td>\n",
       "      <td>14</td>\n",
       "      <td>0</td>\n",
       "      <td>13</td>\n",
       "      <td>7.070004</td>\n",
       "      <td>1024</td>\n",
       "    </tr>\n",
       "    <tr>\n",
       "      <th>1</th>\n",
       "      <td>31</td>\n",
       "      <td>0</td>\n",
       "      <td>2</td>\n",
       "      <td>0.000000</td>\n",
       "      <td>0.000000</td>\n",
       "      <td>14</td>\n",
       "      <td>9500</td>\n",
       "      <td>1</td>\n",
       "      <td>1</td>\n",
       "      <td>2140</td>\n",
       "      <td>...</td>\n",
       "      <td>0</td>\n",
       "      <td>5020</td>\n",
       "      <td>0</td>\n",
       "      <td>5020</td>\n",
       "      <td>0</td>\n",
       "      <td>11</td>\n",
       "      <td>0</td>\n",
       "      <td>0</td>\n",
       "      <td>1.429999</td>\n",
       "      <td>961</td>\n",
       "    </tr>\n",
       "    <tr>\n",
       "      <th>2</th>\n",
       "      <td>44</td>\n",
       "      <td>0</td>\n",
       "      <td>3</td>\n",
       "      <td>0.000000</td>\n",
       "      <td>0.000000</td>\n",
       "      <td>17</td>\n",
       "      <td>42500</td>\n",
       "      <td>1</td>\n",
       "      <td>1</td>\n",
       "      <td>4595</td>\n",
       "      <td>...</td>\n",
       "      <td>1</td>\n",
       "      <td>2815</td>\n",
       "      <td>0</td>\n",
       "      <td>2815</td>\n",
       "      <td>0</td>\n",
       "      <td>21</td>\n",
       "      <td>0</td>\n",
       "      <td>0</td>\n",
       "      <td>20.529997</td>\n",
       "      <td>1936</td>\n",
       "    </tr>\n",
       "    <tr>\n",
       "      <th>3</th>\n",
       "      <td>30</td>\n",
       "      <td>0</td>\n",
       "      <td>4</td>\n",
       "      <td>0.000000</td>\n",
       "      <td>0.000000</td>\n",
       "      <td>12</td>\n",
       "      <td>42500</td>\n",
       "      <td>1</td>\n",
       "      <td>1</td>\n",
       "      <td>3211</td>\n",
       "      <td>...</td>\n",
       "      <td>1</td>\n",
       "      <td>3786</td>\n",
       "      <td>0</td>\n",
       "      <td>3786</td>\n",
       "      <td>0</td>\n",
       "      <td>12</td>\n",
       "      <td>0</td>\n",
       "      <td>12</td>\n",
       "      <td>9.619998</td>\n",
       "      <td>900</td>\n",
       "    </tr>\n",
       "    <tr>\n",
       "      <th>4</th>\n",
       "      <td>64</td>\n",
       "      <td>0</td>\n",
       "      <td>5</td>\n",
       "      <td>0.000000</td>\n",
       "      <td>0.000000</td>\n",
       "      <td>14</td>\n",
       "      <td>2500</td>\n",
       "      <td>1</td>\n",
       "      <td>1</td>\n",
       "      <td>4052</td>\n",
       "      <td>...</td>\n",
       "      <td>1</td>\n",
       "      <td>2580</td>\n",
       "      <td>0</td>\n",
       "      <td>2580</td>\n",
       "      <td>0</td>\n",
       "      <td>44</td>\n",
       "      <td>0</td>\n",
       "      <td>33</td>\n",
       "      <td>2.750000</td>\n",
       "      <td>4096</td>\n",
       "    </tr>\n",
       "    <tr>\n",
       "      <th>...</th>\n",
       "      <td>...</td>\n",
       "      <td>...</td>\n",
       "      <td>...</td>\n",
       "      <td>...</td>\n",
       "      <td>...</td>\n",
       "      <td>...</td>\n",
       "      <td>...</td>\n",
       "      <td>...</td>\n",
       "      <td>...</td>\n",
       "      <td>...</td>\n",
       "      <td>...</td>\n",
       "      <td>...</td>\n",
       "      <td>...</td>\n",
       "      <td>...</td>\n",
       "      <td>...</td>\n",
       "      <td>...</td>\n",
       "      <td>...</td>\n",
       "      <td>...</td>\n",
       "      <td>...</td>\n",
       "      <td>...</td>\n",
       "      <td>...</td>\n",
       "    </tr>\n",
       "    <tr>\n",
       "      <th>701</th>\n",
       "      <td>45</td>\n",
       "      <td>0</td>\n",
       "      <td>702</td>\n",
       "      <td>0.182331</td>\n",
       "      <td>0.030075</td>\n",
       "      <td>12</td>\n",
       "      <td>5500</td>\n",
       "      <td>1</td>\n",
       "      <td>0</td>\n",
       "      <td>5069</td>\n",
       "      <td>...</td>\n",
       "      <td>1</td>\n",
       "      <td>2026</td>\n",
       "      <td>0</td>\n",
       "      <td>2026</td>\n",
       "      <td>0</td>\n",
       "      <td>27</td>\n",
       "      <td>0</td>\n",
       "      <td>18</td>\n",
       "      <td>NaN</td>\n",
       "      <td>2025</td>\n",
       "    </tr>\n",
       "    <tr>\n",
       "      <th>702</th>\n",
       "      <td>34</td>\n",
       "      <td>0</td>\n",
       "      <td>703</td>\n",
       "      <td>0.182331</td>\n",
       "      <td>0.030075</td>\n",
       "      <td>10</td>\n",
       "      <td>2500</td>\n",
       "      <td>0</td>\n",
       "      <td>0</td>\n",
       "      <td>5885</td>\n",
       "      <td>...</td>\n",
       "      <td>0</td>\n",
       "      <td>675</td>\n",
       "      <td>1</td>\n",
       "      <td>465</td>\n",
       "      <td>210</td>\n",
       "      <td>18</td>\n",
       "      <td>0</td>\n",
       "      <td>4</td>\n",
       "      <td>NaN</td>\n",
       "      <td>1156</td>\n",
       "    </tr>\n",
       "    <tr>\n",
       "      <th>703</th>\n",
       "      <td>37</td>\n",
       "      <td>0</td>\n",
       "      <td>704</td>\n",
       "      <td>0.182331</td>\n",
       "      <td>0.030075</td>\n",
       "      <td>12</td>\n",
       "      <td>3500</td>\n",
       "      <td>1</td>\n",
       "      <td>0</td>\n",
       "      <td>4719</td>\n",
       "      <td>...</td>\n",
       "      <td>1</td>\n",
       "      <td>1851</td>\n",
       "      <td>0</td>\n",
       "      <td>1851</td>\n",
       "      <td>0</td>\n",
       "      <td>19</td>\n",
       "      <td>0</td>\n",
       "      <td>17</td>\n",
       "      <td>NaN</td>\n",
       "      <td>1369</td>\n",
       "    </tr>\n",
       "    <tr>\n",
       "      <th>704</th>\n",
       "      <td>54</td>\n",
       "      <td>0</td>\n",
       "      <td>705</td>\n",
       "      <td>0.182331</td>\n",
       "      <td>0.030075</td>\n",
       "      <td>17</td>\n",
       "      <td>32500</td>\n",
       "      <td>1</td>\n",
       "      <td>0</td>\n",
       "      <td>5149</td>\n",
       "      <td>...</td>\n",
       "      <td>1</td>\n",
       "      <td>1961</td>\n",
       "      <td>1</td>\n",
       "      <td>1481</td>\n",
       "      <td>480</td>\n",
       "      <td>31</td>\n",
       "      <td>0</td>\n",
       "      <td>22</td>\n",
       "      <td>NaN</td>\n",
       "      <td>2916</td>\n",
       "    </tr>\n",
       "    <tr>\n",
       "      <th>705</th>\n",
       "      <td>30</td>\n",
       "      <td>0</td>\n",
       "      <td>706</td>\n",
       "      <td>0.182331</td>\n",
       "      <td>0.030075</td>\n",
       "      <td>16</td>\n",
       "      <td>6750</td>\n",
       "      <td>1</td>\n",
       "      <td>0</td>\n",
       "      <td>4747</td>\n",
       "      <td>...</td>\n",
       "      <td>0</td>\n",
       "      <td>2363</td>\n",
       "      <td>0</td>\n",
       "      <td>2363</td>\n",
       "      <td>0</td>\n",
       "      <td>8</td>\n",
       "      <td>1</td>\n",
       "      <td>9</td>\n",
       "      <td>NaN</td>\n",
       "      <td>900</td>\n",
       "    </tr>\n",
       "  </tbody>\n",
       "</table>\n",
       "<p>706 rows × 34 columns</p>\n",
       "</div>"
      ],
      "text/plain": [
       "     age  black  case  clerical  construc  educ  earns74  gdhlth  inlf  leis1  \\\n",
       "0     32      0     1  0.000000  0.000000    12        0       0     1   3529   \n",
       "1     31      0     2  0.000000  0.000000    14     9500       1     1   2140   \n",
       "2     44      0     3  0.000000  0.000000    17    42500       1     1   4595   \n",
       "3     30      0     4  0.000000  0.000000    12    42500       1     1   3211   \n",
       "4     64      0     5  0.000000  0.000000    14     2500       1     1   4052   \n",
       "..   ...    ...   ...       ...       ...   ...      ...     ...   ...    ...   \n",
       "701   45      0   702  0.182331  0.030075    12     5500       1     0   5069   \n",
       "702   34      0   703  0.182331  0.030075    10     2500       0     0   5885   \n",
       "703   37      0   704  0.182331  0.030075    12     3500       1     0   4719   \n",
       "704   54      0   705  0.182331  0.030075    17    32500       1     0   5149   \n",
       "705   30      0   706  0.182331  0.030075    16     6750       1     0   4747   \n",
       "\n",
       "     ...  spwrk75  totwrk  union  worknrm  workscnd  exper  yngkid  yrsmarr  \\\n",
       "0    ...        0    3438      0     3438         0     14       0       13   \n",
       "1    ...        0    5020      0     5020         0     11       0        0   \n",
       "2    ...        1    2815      0     2815         0     21       0        0   \n",
       "3    ...        1    3786      0     3786         0     12       0       12   \n",
       "4    ...        1    2580      0     2580         0     44       0       33   \n",
       "..   ...      ...     ...    ...      ...       ...    ...     ...      ...   \n",
       "701  ...        1    2026      0     2026         0     27       0       18   \n",
       "702  ...        0     675      1      465       210     18       0        4   \n",
       "703  ...        1    1851      0     1851         0     19       0       17   \n",
       "704  ...        1    1961      1     1481       480     31       0       22   \n",
       "705  ...        0    2363      0     2363         0      8       1        9   \n",
       "\n",
       "        hrwage  agesq  \n",
       "0     7.070004   1024  \n",
       "1     1.429999    961  \n",
       "2    20.529997   1936  \n",
       "3     9.619998    900  \n",
       "4     2.750000   4096  \n",
       "..         ...    ...  \n",
       "701        NaN   2025  \n",
       "702        NaN   1156  \n",
       "703        NaN   1369  \n",
       "704        NaN   2916  \n",
       "705        NaN    900  \n",
       "\n",
       "[706 rows x 34 columns]"
      ]
     },
     "execution_count": 83,
     "metadata": {},
     "output_type": "execute_result"
    }
   ],
   "source": [
    "df"
   ]
  },
  {
   "cell_type": "code",
   "execution_count": 85,
   "id": "8c1e46d2",
   "metadata": {},
   "outputs": [
    {
     "data": {
      "text/html": [
       "<div>\n",
       "<style scoped>\n",
       "    .dataframe tbody tr th:only-of-type {\n",
       "        vertical-align: middle;\n",
       "    }\n",
       "\n",
       "    .dataframe tbody tr th {\n",
       "        vertical-align: top;\n",
       "    }\n",
       "\n",
       "    .dataframe thead th {\n",
       "        text-align: right;\n",
       "    }\n",
       "</style>\n",
       "<table border=\"1\" class=\"dataframe\">\n",
       "  <thead>\n",
       "    <tr style=\"text-align: right;\">\n",
       "      <th></th>\n",
       "      <th>age</th>\n",
       "      <th>black</th>\n",
       "      <th>case</th>\n",
       "      <th>clerical</th>\n",
       "      <th>construc</th>\n",
       "      <th>educ</th>\n",
       "      <th>earns74</th>\n",
       "      <th>gdhlth</th>\n",
       "      <th>inlf</th>\n",
       "      <th>leis1</th>\n",
       "      <th>...</th>\n",
       "      <th>spwrk75</th>\n",
       "      <th>totwrk</th>\n",
       "      <th>union</th>\n",
       "      <th>worknrm</th>\n",
       "      <th>workscnd</th>\n",
       "      <th>exper</th>\n",
       "      <th>yngkid</th>\n",
       "      <th>yrsmarr</th>\n",
       "      <th>hrwage</th>\n",
       "      <th>agesq</th>\n",
       "    </tr>\n",
       "  </thead>\n",
       "  <tbody>\n",
       "    <tr>\n",
       "      <th>2</th>\n",
       "      <td>44</td>\n",
       "      <td>0</td>\n",
       "      <td>3</td>\n",
       "      <td>0.000000</td>\n",
       "      <td>0.000000</td>\n",
       "      <td>17</td>\n",
       "      <td>42500</td>\n",
       "      <td>1</td>\n",
       "      <td>1</td>\n",
       "      <td>4595</td>\n",
       "      <td>...</td>\n",
       "      <td>1</td>\n",
       "      <td>2815</td>\n",
       "      <td>0</td>\n",
       "      <td>2815</td>\n",
       "      <td>0</td>\n",
       "      <td>21</td>\n",
       "      <td>0</td>\n",
       "      <td>0</td>\n",
       "      <td>20.529997</td>\n",
       "      <td>1936</td>\n",
       "    </tr>\n",
       "    <tr>\n",
       "      <th>7</th>\n",
       "      <td>47</td>\n",
       "      <td>0</td>\n",
       "      <td>8</td>\n",
       "      <td>0.000000</td>\n",
       "      <td>0.000000</td>\n",
       "      <td>13</td>\n",
       "      <td>0</td>\n",
       "      <td>1</td>\n",
       "      <td>1</td>\n",
       "      <td>3544</td>\n",
       "      <td>...</td>\n",
       "      <td>0</td>\n",
       "      <td>3608</td>\n",
       "      <td>0</td>\n",
       "      <td>3608</td>\n",
       "      <td>0</td>\n",
       "      <td>28</td>\n",
       "      <td>0</td>\n",
       "      <td>24</td>\n",
       "      <td>15.010007</td>\n",
       "      <td>2209</td>\n",
       "    </tr>\n",
       "    <tr>\n",
       "      <th>9</th>\n",
       "      <td>30</td>\n",
       "      <td>0</td>\n",
       "      <td>10</td>\n",
       "      <td>0.000000</td>\n",
       "      <td>0.000000</td>\n",
       "      <td>15</td>\n",
       "      <td>11750</td>\n",
       "      <td>1</td>\n",
       "      <td>1</td>\n",
       "      <td>4211</td>\n",
       "      <td>...</td>\n",
       "      <td>1</td>\n",
       "      <td>2851</td>\n",
       "      <td>0</td>\n",
       "      <td>2851</td>\n",
       "      <td>0</td>\n",
       "      <td>9</td>\n",
       "      <td>0</td>\n",
       "      <td>7</td>\n",
       "      <td>2.959999</td>\n",
       "      <td>900</td>\n",
       "    </tr>\n",
       "    <tr>\n",
       "      <th>11</th>\n",
       "      <td>23</td>\n",
       "      <td>0</td>\n",
       "      <td>12</td>\n",
       "      <td>0.000000</td>\n",
       "      <td>0.000000</td>\n",
       "      <td>16</td>\n",
       "      <td>1000</td>\n",
       "      <td>1</td>\n",
       "      <td>1</td>\n",
       "      <td>6415</td>\n",
       "      <td>...</td>\n",
       "      <td>1</td>\n",
       "      <td>370</td>\n",
       "      <td>0</td>\n",
       "      <td>370</td>\n",
       "      <td>0</td>\n",
       "      <td>1</td>\n",
       "      <td>0</td>\n",
       "      <td>4</td>\n",
       "      <td>1.230000</td>\n",
       "      <td>529</td>\n",
       "    </tr>\n",
       "    <tr>\n",
       "      <th>12</th>\n",
       "      <td>24</td>\n",
       "      <td>0</td>\n",
       "      <td>13</td>\n",
       "      <td>0.000000</td>\n",
       "      <td>0.000000</td>\n",
       "      <td>16</td>\n",
       "      <td>1000</td>\n",
       "      <td>1</td>\n",
       "      <td>1</td>\n",
       "      <td>3844</td>\n",
       "      <td>...</td>\n",
       "      <td>1</td>\n",
       "      <td>2438</td>\n",
       "      <td>0</td>\n",
       "      <td>2438</td>\n",
       "      <td>0</td>\n",
       "      <td>2</td>\n",
       "      <td>0</td>\n",
       "      <td>4</td>\n",
       "      <td>1.230000</td>\n",
       "      <td>576</td>\n",
       "    </tr>\n",
       "    <tr>\n",
       "      <th>...</th>\n",
       "      <td>...</td>\n",
       "      <td>...</td>\n",
       "      <td>...</td>\n",
       "      <td>...</td>\n",
       "      <td>...</td>\n",
       "      <td>...</td>\n",
       "      <td>...</td>\n",
       "      <td>...</td>\n",
       "      <td>...</td>\n",
       "      <td>...</td>\n",
       "      <td>...</td>\n",
       "      <td>...</td>\n",
       "      <td>...</td>\n",
       "      <td>...</td>\n",
       "      <td>...</td>\n",
       "      <td>...</td>\n",
       "      <td>...</td>\n",
       "      <td>...</td>\n",
       "      <td>...</td>\n",
       "      <td>...</td>\n",
       "      <td>...</td>\n",
       "    </tr>\n",
       "    <tr>\n",
       "      <th>689</th>\n",
       "      <td>31</td>\n",
       "      <td>0</td>\n",
       "      <td>690</td>\n",
       "      <td>0.182331</td>\n",
       "      <td>0.030075</td>\n",
       "      <td>12</td>\n",
       "      <td>10500</td>\n",
       "      <td>1</td>\n",
       "      <td>0</td>\n",
       "      <td>4639</td>\n",
       "      <td>...</td>\n",
       "      <td>0</td>\n",
       "      <td>2373</td>\n",
       "      <td>0</td>\n",
       "      <td>2373</td>\n",
       "      <td>0</td>\n",
       "      <td>13</td>\n",
       "      <td>0</td>\n",
       "      <td>0</td>\n",
       "      <td>NaN</td>\n",
       "      <td>961</td>\n",
       "    </tr>\n",
       "    <tr>\n",
       "      <th>693</th>\n",
       "      <td>25</td>\n",
       "      <td>1</td>\n",
       "      <td>694</td>\n",
       "      <td>0.182331</td>\n",
       "      <td>0.030075</td>\n",
       "      <td>12</td>\n",
       "      <td>3500</td>\n",
       "      <td>1</td>\n",
       "      <td>0</td>\n",
       "      <td>5530</td>\n",
       "      <td>...</td>\n",
       "      <td>0</td>\n",
       "      <td>1510</td>\n",
       "      <td>1</td>\n",
       "      <td>1510</td>\n",
       "      <td>0</td>\n",
       "      <td>7</td>\n",
       "      <td>1</td>\n",
       "      <td>0</td>\n",
       "      <td>NaN</td>\n",
       "      <td>625</td>\n",
       "    </tr>\n",
       "    <tr>\n",
       "      <th>697</th>\n",
       "      <td>47</td>\n",
       "      <td>0</td>\n",
       "      <td>698</td>\n",
       "      <td>0.182331</td>\n",
       "      <td>0.030075</td>\n",
       "      <td>10</td>\n",
       "      <td>9500</td>\n",
       "      <td>1</td>\n",
       "      <td>0</td>\n",
       "      <td>5882</td>\n",
       "      <td>...</td>\n",
       "      <td>0</td>\n",
       "      <td>1183</td>\n",
       "      <td>1</td>\n",
       "      <td>1183</td>\n",
       "      <td>0</td>\n",
       "      <td>31</td>\n",
       "      <td>0</td>\n",
       "      <td>28</td>\n",
       "      <td>NaN</td>\n",
       "      <td>2209</td>\n",
       "    </tr>\n",
       "    <tr>\n",
       "      <th>700</th>\n",
       "      <td>32</td>\n",
       "      <td>0</td>\n",
       "      <td>701</td>\n",
       "      <td>0.182331</td>\n",
       "      <td>0.030075</td>\n",
       "      <td>16</td>\n",
       "      <td>10500</td>\n",
       "      <td>1</td>\n",
       "      <td>0</td>\n",
       "      <td>4707</td>\n",
       "      <td>...</td>\n",
       "      <td>0</td>\n",
       "      <td>2388</td>\n",
       "      <td>0</td>\n",
       "      <td>2388</td>\n",
       "      <td>0</td>\n",
       "      <td>10</td>\n",
       "      <td>0</td>\n",
       "      <td>0</td>\n",
       "      <td>NaN</td>\n",
       "      <td>1024</td>\n",
       "    </tr>\n",
       "    <tr>\n",
       "      <th>701</th>\n",
       "      <td>45</td>\n",
       "      <td>0</td>\n",
       "      <td>702</td>\n",
       "      <td>0.182331</td>\n",
       "      <td>0.030075</td>\n",
       "      <td>12</td>\n",
       "      <td>5500</td>\n",
       "      <td>1</td>\n",
       "      <td>0</td>\n",
       "      <td>5069</td>\n",
       "      <td>...</td>\n",
       "      <td>1</td>\n",
       "      <td>2026</td>\n",
       "      <td>0</td>\n",
       "      <td>2026</td>\n",
       "      <td>0</td>\n",
       "      <td>27</td>\n",
       "      <td>0</td>\n",
       "      <td>18</td>\n",
       "      <td>NaN</td>\n",
       "      <td>2025</td>\n",
       "    </tr>\n",
       "  </tbody>\n",
       "</table>\n",
       "<p>282 rows × 34 columns</p>\n",
       "</div>"
      ],
      "text/plain": [
       "     age  black  case  clerical  construc  educ  earns74  gdhlth  inlf  leis1  \\\n",
       "2     44      0     3  0.000000  0.000000    17    42500       1     1   4595   \n",
       "7     47      0     8  0.000000  0.000000    13        0       1     1   3544   \n",
       "9     30      0    10  0.000000  0.000000    15    11750       1     1   4211   \n",
       "11    23      0    12  0.000000  0.000000    16     1000       1     1   6415   \n",
       "12    24      0    13  0.000000  0.000000    16     1000       1     1   3844   \n",
       "..   ...    ...   ...       ...       ...   ...      ...     ...   ...    ...   \n",
       "689   31      0   690  0.182331  0.030075    12    10500       1     0   4639   \n",
       "693   25      1   694  0.182331  0.030075    12     3500       1     0   5530   \n",
       "697   47      0   698  0.182331  0.030075    10     9500       1     0   5882   \n",
       "700   32      0   701  0.182331  0.030075    16    10500       1     0   4707   \n",
       "701   45      0   702  0.182331  0.030075    12     5500       1     0   5069   \n",
       "\n",
       "     ...  spwrk75  totwrk  union  worknrm  workscnd  exper  yngkid  yrsmarr  \\\n",
       "2    ...        1    2815      0     2815         0     21       0        0   \n",
       "7    ...        0    3608      0     3608         0     28       0       24   \n",
       "9    ...        1    2851      0     2851         0      9       0        7   \n",
       "11   ...        1     370      0      370         0      1       0        4   \n",
       "12   ...        1    2438      0     2438         0      2       0        4   \n",
       "..   ...      ...     ...    ...      ...       ...    ...     ...      ...   \n",
       "689  ...        0    2373      0     2373         0     13       0        0   \n",
       "693  ...        0    1510      1     1510         0      7       1        0   \n",
       "697  ...        0    1183      1     1183         0     31       0       28   \n",
       "700  ...        0    2388      0     2388         0     10       0        0   \n",
       "701  ...        1    2026      0     2026         0     27       0       18   \n",
       "\n",
       "        hrwage  agesq  \n",
       "2    20.529997   1936  \n",
       "7    15.010007   2209  \n",
       "9     2.959999    900  \n",
       "11    1.230000    529  \n",
       "12    1.230000    576  \n",
       "..         ...    ...  \n",
       "689        NaN    961  \n",
       "693        NaN    625  \n",
       "697        NaN   2209  \n",
       "700        NaN   1024  \n",
       "701        NaN   2025  \n",
       "\n",
       "[282 rows x 34 columns]"
      ]
     },
     "execution_count": 85,
     "metadata": {},
     "output_type": "execute_result"
    }
   ],
   "source": [
    "df_smsa = df[df['smsa']==1]\n",
    "df_smsa"
   ]
  },
  {
   "cell_type": "code",
   "execution_count": 86,
   "id": "98952490",
   "metadata": {},
   "outputs": [
    {
     "data": {
      "text/plain": [
       "2      2670\n",
       "19     3090\n",
       "149    2985\n",
       "194    3660\n",
       "259    2618\n",
       "Name: sleep, dtype: int64"
      ]
     },
     "execution_count": 86,
     "metadata": {},
     "output_type": "execute_result"
    }
   ],
   "source": [
    "ind = np.array([1, 9, 56, 76, 100])-1\n",
    "df_smsa['sleep'].iloc[ind]"
   ]
  },
  {
   "cell_type": "code",
   "execution_count": 87,
   "id": "1ff4cb5a",
   "metadata": {},
   "outputs": [
    {
     "data": {
      "text/plain": [
       "2      3132.49\n",
       "19     3370.08\n",
       "149    2835.36\n",
       "194    3248.54\n",
       "259    2863.07\n",
       "dtype: float64"
      ]
     },
     "execution_count": 87,
     "metadata": {},
     "output_type": "execute_result"
    }
   ],
   "source": [
    "sleep_eq.fittedvalues.iloc[ind].round(2)"
   ]
  },
  {
   "cell_type": "code",
   "execution_count": 88,
   "id": "026ddbd8",
   "metadata": {},
   "outputs": [
    {
     "data": {
      "text/plain": [
       "2     -462.49\n",
       "19    -280.08\n",
       "149    149.64\n",
       "194    411.46\n",
       "259   -245.07\n",
       "dtype: float64"
      ]
     },
     "execution_count": 88,
     "metadata": {},
     "output_type": "execute_result"
    }
   ],
   "source": [
    "sleep_eq.resid.iloc[ind].round(2)"
   ]
  },
  {
   "cell_type": "code",
   "execution_count": 89,
   "id": "9de8efd2",
   "metadata": {},
   "outputs": [
    {
     "data": {
      "text/plain": [
       "50055043.404255316"
      ]
     },
     "execution_count": 89,
     "metadata": {},
     "output_type": "execute_result"
    }
   ],
   "source": [
    "sleep_eq.centered_tss"
   ]
  },
  {
   "cell_type": "code",
   "execution_count": 90,
   "id": "d70b1227",
   "metadata": {},
   "outputs": [
    {
     "data": {
      "text/plain": [
       "7396259.393412955"
      ]
     },
     "execution_count": 90,
     "metadata": {},
     "output_type": "execute_result"
    }
   ],
   "source": [
    "sleep_eq.ess"
   ]
  },
  {
   "cell_type": "code",
   "execution_count": 91,
   "id": "773cb7e5",
   "metadata": {},
   "outputs": [
    {
     "data": {
      "text/plain": [
       "42658784.01084236"
      ]
     },
     "execution_count": 91,
     "metadata": {},
     "output_type": "execute_result"
    }
   ],
   "source": [
    "sleep_eq.ssr"
   ]
  },
  {
   "cell_type": "code",
   "execution_count": 92,
   "id": "1bf7bfee",
   "metadata": {},
   "outputs": [
    {
     "data": {
      "text/plain": [
       "0.14776252082490815"
      ]
     },
     "execution_count": 92,
     "metadata": {},
     "output_type": "execute_result"
    }
   ],
   "source": [
    "sleep_eq.rsquared"
   ]
  },
  {
   "cell_type": "code",
   "execution_count": 93,
   "id": "1d962523",
   "metadata": {},
   "outputs": [
    {
     "data": {
      "text/plain": [
       "0.13545584242526787"
      ]
     },
     "execution_count": 93,
     "metadata": {},
     "output_type": "execute_result"
    }
   ],
   "source": [
    "sleep_eq.rsquared_adj"
   ]
  },
  {
   "cell_type": "code",
   "execution_count": 95,
   "id": "93f7b4cb",
   "metadata": {},
   "outputs": [
    {
     "data": {
      "text/plain": [
       "392.432"
      ]
     },
     "execution_count": 95,
     "metadata": {},
     "output_type": "execute_result"
    }
   ],
   "source": [
    "RSS = sleep_eq.ssr\n",
    "n = len(df_smsa)\n",
    "k = 5\n",
    "s = (RSS/(n-k))**0.5\n",
    "round (s, 3)"
   ]
  },
  {
   "cell_type": "markdown",
   "id": "b0fe6355",
   "metadata": {},
   "source": [
    "### Задача 3.3"
   ]
  },
  {
   "cell_type": "code",
   "execution_count": 97,
   "id": "75dd2d26",
   "metadata": {},
   "outputs": [
    {
     "data": {
      "text/plain": [
       "Intercept    3600.96\n",
       "totwrk         -0.19\n",
       "age             3.30\n",
       "smsa          -77.69\n",
       "south          60.11\n",
       "dtype: float64"
      ]
     },
     "execution_count": 97,
     "metadata": {},
     "output_type": "execute_result"
    }
   ],
   "source": [
    "df = pd.read_csv('https://github.com/artamonoff/Econometrica/raw/master/python-notebooks/data-csv/sleep75.csv')\n",
    "sleep_eq = smf.ols(formula='sleep~totwrk+age+smsa+south', data=df[df['male']==1]).fit()\n",
    "sleep_eq.params.round(2)"
   ]
  },
  {
   "cell_type": "code",
   "execution_count": 98,
   "id": "7254fad0",
   "metadata": {},
   "outputs": [
    {
     "data": {
      "text/plain": [
       "0      3113\n",
       "9      3018\n",
       "48     3363\n",
       "262    3390\n",
       "440    2955\n",
       "Name: sleep, dtype: int64"
      ]
     },
     "execution_count": 98,
     "metadata": {},
     "output_type": "execute_result"
    }
   ],
   "source": [
    "df_smsa = df[df['male']==1]\n",
    "ind = np.array([1, 9, 45, 187, 280])-1\n",
    "df_smsa['sleep'].iloc[ind]"
   ]
  },
  {
   "cell_type": "code",
   "execution_count": 99,
   "id": "317000a0",
   "metadata": {},
   "outputs": [
    {
     "data": {
      "text/plain": [
       "0      3061.48\n",
       "9      3087.34\n",
       "48     3268.52\n",
       "262    3228.98\n",
       "440    3399.06\n",
       "dtype: float64"
      ]
     },
     "execution_count": 99,
     "metadata": {},
     "output_type": "execute_result"
    }
   ],
   "source": [
    "sleep_eq.fittedvalues.iloc[ind].round(2)"
   ]
  },
  {
   "cell_type": "code",
   "execution_count": 100,
   "id": "a7ae1196",
   "metadata": {},
   "outputs": [
    {
     "data": {
      "text/plain": [
       "0       51.52\n",
       "9      -69.34\n",
       "48      94.48\n",
       "262    161.02\n",
       "440   -444.06\n",
       "dtype: float64"
      ]
     },
     "execution_count": 100,
     "metadata": {},
     "output_type": "execute_result"
    }
   ],
   "source": [
    "sleep_eq.resid.iloc[ind].round(2)"
   ]
  },
  {
   "cell_type": "code",
   "execution_count": 101,
   "id": "d27b2a5f",
   "metadata": {},
   "outputs": [
    {
     "data": {
      "text/plain": [
       "75570140.57750002"
      ]
     },
     "execution_count": 101,
     "metadata": {},
     "output_type": "execute_result"
    }
   ],
   "source": [
    "sleep_eq.centered_tss"
   ]
  },
  {
   "cell_type": "code",
   "execution_count": 102,
   "id": "e018eff7",
   "metadata": {},
   "outputs": [
    {
     "data": {
      "text/plain": [
       "12125135.59786518"
      ]
     },
     "execution_count": 102,
     "metadata": {},
     "output_type": "execute_result"
    }
   ],
   "source": [
    "sleep_eq.ess"
   ]
  },
  {
   "cell_type": "code",
   "execution_count": 103,
   "id": "5f302b4a",
   "metadata": {},
   "outputs": [
    {
     "data": {
      "text/plain": [
       "63445004.97963484"
      ]
     },
     "execution_count": 103,
     "metadata": {},
     "output_type": "execute_result"
    }
   ],
   "source": [
    "sleep_eq.ssr"
   ]
  },
  {
   "cell_type": "code",
   "execution_count": 104,
   "id": "6a931eca",
   "metadata": {},
   "outputs": [
    {
     "data": {
      "text/plain": [
       "0.16044876329732904"
      ]
     },
     "execution_count": 104,
     "metadata": {},
     "output_type": "execute_result"
    }
   ],
   "source": [
    "sleep_eq.rsquared"
   ]
  },
  {
   "cell_type": "code",
   "execution_count": 105,
   "id": "fdfe0560",
   "metadata": {},
   "outputs": [
    {
     "data": {
      "text/plain": [
       "0.1519469786218589"
      ]
     },
     "execution_count": 105,
     "metadata": {},
     "output_type": "execute_result"
    }
   ],
   "source": [
    "sleep_eq.rsquared_adj"
   ]
  },
  {
   "cell_type": "code",
   "execution_count": 106,
   "id": "fc3aa78e",
   "metadata": {},
   "outputs": [
    {
     "data": {
      "text/plain": [
       "400.77"
      ]
     },
     "execution_count": 106,
     "metadata": {},
     "output_type": "execute_result"
    }
   ],
   "source": [
    "RSS = sleep_eq.ssr\n",
    "n = len(df_smsa)\n",
    "k = 5\n",
    "s = (RSS/(n-k))**0.5\n",
    "round (s, 2)"
   ]
  },
  {
   "cell_type": "markdown",
   "id": "56bd90cb",
   "metadata": {},
   "source": [
    "### Задача 3.4"
   ]
  },
  {
   "cell_type": "code",
   "execution_count": 107,
   "id": "396a47d2",
   "metadata": {},
   "outputs": [
    {
     "data": {
      "text/plain": [
       "Intercept    3468.20\n",
       "totwrk         -0.15\n",
       "age             1.65\n",
       "smsa          -37.69\n",
       "south         136.03\n",
       "dtype: float64"
      ]
     },
     "execution_count": 107,
     "metadata": {},
     "output_type": "execute_result"
    }
   ],
   "source": [
    "sleep_eq = smf.ols(formula='sleep~totwrk+age+smsa+south', data=df[df['male']==0]).fit()\n",
    "sleep_eq.params.round(2)"
   ]
  },
  {
   "cell_type": "code",
   "execution_count": 108,
   "id": "d106396e",
   "metadata": {},
   "outputs": [
    {
     "data": {
      "text/plain": [
       "3      3083\n",
       "67     2858\n",
       "198    3730\n",
       "472    3376\n",
       "628    3405\n",
       "Name: sleep, dtype: int64"
      ]
     },
     "execution_count": 108,
     "metadata": {},
     "output_type": "execute_result"
    }
   ],
   "source": [
    "df_smsa = df[df['male']==0]\n",
    "ind = np.array([1, 9, 45, 187, 280])-1\n",
    "df_smsa['sleep'].iloc[ind]"
   ]
  },
  {
   "cell_type": "code",
   "execution_count": 109,
   "id": "ab193468",
   "metadata": {},
   "outputs": [
    {
     "data": {
      "text/plain": [
       "3      2945.90\n",
       "67     2920.66\n",
       "198    3328.63\n",
       "472    3503.72\n",
       "628    3215.07\n",
       "dtype: float64"
      ]
     },
     "execution_count": 109,
     "metadata": {},
     "output_type": "execute_result"
    }
   ],
   "source": [
    "sleep_eq.fittedvalues.iloc[ind].round(2)"
   ]
  },
  {
   "cell_type": "code",
   "execution_count": 110,
   "id": "47815a96",
   "metadata": {},
   "outputs": [
    {
     "data": {
      "text/plain": [
       "3      137.10\n",
       "67     -62.66\n",
       "198    401.37\n",
       "472   -127.72\n",
       "628    189.93\n",
       "dtype: float64"
      ]
     },
     "execution_count": 110,
     "metadata": {},
     "output_type": "execute_result"
    }
   ],
   "source": [
    "sleep_eq.resid.iloc[ind].round(2)"
   ]
  },
  {
   "cell_type": "code",
   "execution_count": 111,
   "id": "e5a68bd0",
   "metadata": {},
   "outputs": [
    {
     "data": {
      "text/plain": [
       "63490152.11764705"
      ]
     },
     "execution_count": 111,
     "metadata": {},
     "output_type": "execute_result"
    }
   ],
   "source": [
    "sleep_eq.centered_tss"
   ]
  },
  {
   "cell_type": "code",
   "execution_count": 112,
   "id": "1d1c260c",
   "metadata": {},
   "outputs": [
    {
     "data": {
      "text/plain": [
       "6300990.568985924"
      ]
     },
     "execution_count": 112,
     "metadata": {},
     "output_type": "execute_result"
    }
   ],
   "source": [
    "sleep_eq.ess"
   ]
  },
  {
   "cell_type": "code",
   "execution_count": 113,
   "id": "3ae7728d",
   "metadata": {},
   "outputs": [
    {
     "data": {
      "text/plain": [
       "57189161.54866113"
      ]
     },
     "execution_count": 113,
     "metadata": {},
     "output_type": "execute_result"
    }
   ],
   "source": [
    "sleep_eq.ssr"
   ]
  },
  {
   "cell_type": "code",
   "execution_count": 114,
   "id": "997672f7",
   "metadata": {},
   "outputs": [
    {
     "data": {
      "text/plain": [
       "0.09924358910512943"
      ]
     },
     "execution_count": 114,
     "metadata": {},
     "output_type": "execute_result"
    }
   ],
   "source": [
    "sleep_eq.rsquared"
   ]
  },
  {
   "cell_type": "code",
   "execution_count": 115,
   "id": "205904e9",
   "metadata": {},
   "outputs": [
    {
     "data": {
      "text/plain": [
       "0.087273404242739"
      ]
     },
     "execution_count": 115,
     "metadata": {},
     "output_type": "execute_result"
    }
   ],
   "source": [
    "sleep_eq.rsquared_adj"
   ]
  },
  {
   "cell_type": "code",
   "execution_count": 116,
   "id": "a51ebf57",
   "metadata": {},
   "outputs": [
    {
     "data": {
      "text/plain": [
       "435.8867"
      ]
     },
     "execution_count": 116,
     "metadata": {},
     "output_type": "execute_result"
    }
   ],
   "source": [
    "RSS = sleep_eq.ssr\n",
    "n = len(df_smsa)\n",
    "k = 5\n",
    "s = (RSS/(n-k))**0.5\n",
    "round (s, 4)"
   ]
  },
  {
   "cell_type": "markdown",
   "id": "c9055213",
   "metadata": {},
   "source": [
    "### Задача 3.5"
   ]
  },
  {
   "cell_type": "code",
   "execution_count": 120,
   "id": "ac087de7",
   "metadata": {},
   "outputs": [
    {
     "data": {
      "text/plain": [
       "Intercept   -16.75\n",
       "capital       0.40\n",
       "labour        0.05\n",
       "wage          0.44\n",
       "dtype: float64"
      ]
     },
     "execution_count": 120,
     "metadata": {},
     "output_type": "execute_result"
    }
   ],
   "source": [
    "df = pd.read_csv('https://github.com/artamonoff/Econometrica/raw/master/python-notebooks/data-csv/Labour.csv')\n",
    "sleep_eq = smf.ols(formula='output~capital+labour+wage', data=df).fit()\n",
    "sleep_eq.params.round(2)"
   ]
  },
  {
   "cell_type": "code",
   "execution_count": 121,
   "id": "181b740b",
   "metadata": {},
   "outputs": [
    {
     "data": {
      "text/plain": [
       "1      3.664310\n",
       "10     3.245624\n",
       "23     2.666305\n",
       "100    2.180688\n",
       "348    4.307089\n",
       "500    3.659600\n",
       "Name: output, dtype: float64"
      ]
     },
     "execution_count": 121,
     "metadata": {},
     "output_type": "execute_result"
    }
   ],
   "source": [
    "ind = np.array([2, 11, 24, 101, 349, 501])-1\n",
    "df['output'].iloc[ind]"
   ]
  },
  {
   "cell_type": "code",
   "execution_count": 123,
   "id": "c0b279b8",
   "metadata": {},
   "outputs": [
    {
     "data": {
      "text/plain": [
       "1       0.46\n",
       "10      5.67\n",
       "23     -0.63\n",
       "100     6.95\n",
       "348     2.28\n",
       "500    11.35\n",
       "dtype: float64"
      ]
     },
     "execution_count": 123,
     "metadata": {},
     "output_type": "execute_result"
    }
   ],
   "source": [
    "sleep_eq.fittedvalues.iloc[ind].round(2)"
   ]
  },
  {
   "cell_type": "code",
   "execution_count": 124,
   "id": "559095ad",
   "metadata": {},
   "outputs": [
    {
     "data": {
      "text/plain": [
       "1      3.21\n",
       "10    -2.42\n",
       "23     3.29\n",
       "100   -4.77\n",
       "348    2.03\n",
       "500   -7.69\n",
       "dtype: float64"
      ]
     },
     "execution_count": 124,
     "metadata": {},
     "output_type": "execute_result"
    }
   ],
   "source": [
    "sleep_eq.resid.iloc[ind].round(2)"
   ]
  },
  {
   "cell_type": "code",
   "execution_count": 125,
   "id": "e15ab156",
   "metadata": {},
   "outputs": [
    {
     "data": {
      "text/plain": [
       "2235073.2947312016"
      ]
     },
     "execution_count": 125,
     "metadata": {},
     "output_type": "execute_result"
    }
   ],
   "source": [
    "sleep_eq.centered_tss"
   ]
  },
  {
   "cell_type": "code",
   "execution_count": 126,
   "id": "047173f5",
   "metadata": {},
   "outputs": [
    {
     "data": {
      "text/plain": [
       "2190376.0767236855"
      ]
     },
     "execution_count": 126,
     "metadata": {},
     "output_type": "execute_result"
    }
   ],
   "source": [
    "sleep_eq.ess"
   ]
  },
  {
   "cell_type": "code",
   "execution_count": 127,
   "id": "9a664f9d",
   "metadata": {},
   "outputs": [
    {
     "data": {
      "text/plain": [
       "44697.218007516145"
      ]
     },
     "execution_count": 127,
     "metadata": {},
     "output_type": "execute_result"
    }
   ],
   "source": [
    "sleep_eq.ssr"
   ]
  },
  {
   "cell_type": "code",
   "execution_count": 128,
   "id": "5d759c61",
   "metadata": {},
   "outputs": [
    {
     "data": {
      "text/plain": [
       "0.9800019005583029"
      ]
     },
     "execution_count": 128,
     "metadata": {},
     "output_type": "execute_result"
    }
   ],
   "source": [
    "sleep_eq.rsquared"
   ]
  },
  {
   "cell_type": "code",
   "execution_count": 129,
   "id": "ef6246f0",
   "metadata": {},
   "outputs": [
    {
     "data": {
      "text/plain": [
       "0.9798957159594974"
      ]
     },
     "execution_count": 129,
     "metadata": {},
     "output_type": "execute_result"
    }
   ],
   "source": [
    "sleep_eq.rsquared_adj"
   ]
  },
  {
   "cell_type": "code",
   "execution_count": 130,
   "id": "173e534f",
   "metadata": {},
   "outputs": [
    {
     "data": {
      "text/plain": [
       "8.894387014701195"
      ]
     },
     "execution_count": 130,
     "metadata": {},
     "output_type": "execute_result"
    }
   ],
   "source": [
    "RSS = sleep_eq.ssr\n",
    "n = len(df)\n",
    "k = 4\n",
    "s = (RSS/(n-k))**0.5\n",
    "s"
   ]
  },
  {
   "cell_type": "markdown",
   "id": "1d27547c",
   "metadata": {},
   "source": [
    "### Задача 3.6"
   ]
  },
  {
   "cell_type": "code",
   "execution_count": 131,
   "id": "3d71759a",
   "metadata": {},
   "outputs": [
    {
     "data": {
      "text/plain": [
       "Intercept         -5.01\n",
       "np.log(capital)    0.15\n",
       "np.log(labour)     0.72\n",
       "np.log(wage)       0.92\n",
       "dtype: float64"
      ]
     },
     "execution_count": 131,
     "metadata": {},
     "output_type": "execute_result"
    }
   ],
   "source": [
    "sleep_eq = smf.ols(formula='np.log(output)~np.log(capital)+np.log(labour)+np.log(wage)', data=df).fit()\n",
    "sleep_eq.params.round(2)"
   ]
  },
  {
   "cell_type": "code",
   "execution_count": 132,
   "id": "83f63061",
   "metadata": {},
   "outputs": [
    {
     "data": {
      "text/plain": [
       "1      1.298640\n",
       "10     1.177308\n",
       "23     0.980694\n",
       "100    0.779641\n",
       "348    1.460262\n",
       "500    1.297354\n",
       "Name: output, dtype: float64"
      ]
     },
     "execution_count": 132,
     "metadata": {},
     "output_type": "execute_result"
    }
   ],
   "source": [
    "ind = np.array([2, 11, 24, 101, 349, 501])-1\n",
    "np.log(df['output']).iloc[ind]"
   ]
  },
  {
   "cell_type": "code",
   "execution_count": 133,
   "id": "ab0c3cfa",
   "metadata": {},
   "outputs": [
    {
     "data": {
      "text/plain": [
       "1      1.35\n",
       "10     1.43\n",
       "23     0.34\n",
       "100    1.01\n",
       "348    1.18\n",
       "500    1.73\n",
       "dtype: float64"
      ]
     },
     "execution_count": 133,
     "metadata": {},
     "output_type": "execute_result"
    }
   ],
   "source": [
    "sleep_eq.fittedvalues.iloc[ind].round(2)"
   ]
  },
  {
   "cell_type": "code",
   "execution_count": 134,
   "id": "aa818d01",
   "metadata": {},
   "outputs": [
    {
     "data": {
      "text/plain": [
       "1     -0.05\n",
       "10    -0.25\n",
       "23     0.64\n",
       "100   -0.23\n",
       "348    0.28\n",
       "500   -0.43\n",
       "dtype: float64"
      ]
     },
     "execution_count": 134,
     "metadata": {},
     "output_type": "execute_result"
    }
   ],
   "source": [
    "sleep_eq.resid.iloc[ind].round(2)"
   ]
  },
  {
   "cell_type": "code",
   "execution_count": 135,
   "id": "bba8731e",
   "metadata": {},
   "outputs": [
    {
     "data": {
      "text/plain": [
       "797.6674045328446"
      ]
     },
     "execution_count": 135,
     "metadata": {},
     "output_type": "execute_result"
    }
   ],
   "source": [
    "sleep_eq.centered_tss"
   ]
  },
  {
   "cell_type": "code",
   "execution_count": 136,
   "id": "a9f3f995",
   "metadata": {},
   "outputs": [
    {
     "data": {
      "text/plain": [
       "708.6473705860927"
      ]
     },
     "execution_count": 136,
     "metadata": {},
     "output_type": "execute_result"
    }
   ],
   "source": [
    "sleep_eq.ess"
   ]
  },
  {
   "cell_type": "code",
   "execution_count": 137,
   "id": "2c8854fb",
   "metadata": {},
   "outputs": [
    {
     "data": {
      "text/plain": [
       "89.0200339467518"
      ]
     },
     "execution_count": 137,
     "metadata": {},
     "output_type": "execute_result"
    }
   ],
   "source": [
    "sleep_eq.ssr"
   ]
  },
  {
   "cell_type": "code",
   "execution_count": 138,
   "id": "30a91224",
   "metadata": {},
   "outputs": [
    {
     "data": {
      "text/plain": [
       "0.8883995592136719"
      ]
     },
     "execution_count": 138,
     "metadata": {},
     "output_type": "execute_result"
    }
   ],
   "source": [
    "sleep_eq.rsquared"
   ]
  },
  {
   "cell_type": "code",
   "execution_count": 139,
   "id": "64d461c2",
   "metadata": {},
   "outputs": [
    {
     "data": {
      "text/plain": [
       "0.887806990501532"
      ]
     },
     "execution_count": 139,
     "metadata": {},
     "output_type": "execute_result"
    }
   ],
   "source": [
    "sleep_eq.rsquared_adj"
   ]
  },
  {
   "cell_type": "code",
   "execution_count": 140,
   "id": "1da30aed",
   "metadata": {},
   "outputs": [
    {
     "data": {
      "text/plain": [
       "0.3969352367913944"
      ]
     },
     "execution_count": 140,
     "metadata": {},
     "output_type": "execute_result"
    }
   ],
   "source": [
    "RSS = sleep_eq.ssr\n",
    "n = len(df)\n",
    "k = 4\n",
    "s = (RSS/(n-k))**0.5\n",
    "s"
   ]
  },
  {
   "cell_type": "code",
   "execution_count": null,
   "id": "4fc0a301",
   "metadata": {},
   "outputs": [],
   "source": []
  }
 ],
 "metadata": {
  "kernelspec": {
   "display_name": "Python 3 (ipykernel)",
   "language": "python",
   "name": "python3"
  },
  "language_info": {
   "codemirror_mode": {
    "name": "ipython",
    "version": 3
   },
   "file_extension": ".py",
   "mimetype": "text/x-python",
   "name": "python",
   "nbconvert_exporter": "python",
   "pygments_lexer": "ipython3",
   "version": "3.9.13"
  }
 },
 "nbformat": 4,
 "nbformat_minor": 5
}
