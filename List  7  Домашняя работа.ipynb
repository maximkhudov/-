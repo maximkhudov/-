{
 "cells": [
  {
   "cell_type": "code",
   "execution_count": 1,
   "id": "b77941af-2f79-498c-851a-1ba239d162dc",
   "metadata": {},
   "outputs": [],
   "source": [
    "import numpy as np\n",
    "import re"
   ]
  },
  {
   "cell_type": "markdown",
   "id": "1bd7e6ba",
   "metadata": {},
   "source": [
    "### Задача 1"
   ]
  },
  {
   "cell_type": "code",
   "execution_count": 2,
   "id": "a58c7512",
   "metadata": {},
   "outputs": [],
   "source": [
    "date_string = '''totwrk                       -0.169***         \n",
    "                              (0.018)          \n",
    "                                               \n",
    "age                           2.689*           \n",
    "                              (1.469)          \n",
    "                                               \n",
    "south                        101.568**         \n",
    "                             (41.837)          \n",
    "                                               \n",
    "male                         87.669**          \n",
    "                             (35.104)          \n",
    "                                               \n",
    "smsa                         -54.748*          \n",
    "                             (33.123)          \n",
    "                                               \n",
    "yngkid                        -13.962          \n",
    "                             (50.341)          \n",
    "                                               \n",
    "marr                          31.211           \n",
    "                             (42.233)          \n",
    "                                               \n",
    "Constant                    3450.913***        \n",
    "                             (80.726)'''"
   ]
  },
  {
   "cell_type": "code",
   "execution_count": 3,
   "id": "d248d6e7",
   "metadata": {},
   "outputs": [
    {
     "data": {
      "text/plain": [
       "['-0.169',\n",
       " '0.018',\n",
       " '2.689',\n",
       " '1.469',\n",
       " '101.568',\n",
       " '41.837',\n",
       " '87.669',\n",
       " '35.104',\n",
       " '-54.748',\n",
       " '33.123',\n",
       " '-13.962',\n",
       " '50.341',\n",
       " '31.211',\n",
       " '42.233',\n",
       " '3450.913',\n",
       " '80.726']"
      ]
     },
     "execution_count": 3,
     "metadata": {},
     "output_type": "execute_result"
    }
   ],
   "source": [
    "digital_date = re.findall(r'([-+]?\\d+.\\d+)',date_string)\n",
    "digital_date"
   ]
  },
  {
   "cell_type": "code",
   "execution_count": 4,
   "id": "d25fba1e",
   "metadata": {},
   "outputs": [
    {
     "data": {
      "text/plain": [
       "array([['-0.169', '0.018'],\n",
       "       ['2.689', '1.469'],\n",
       "       ['101.568', '41.837'],\n",
       "       ['87.669', '35.104'],\n",
       "       ['-54.748', '33.123'],\n",
       "       ['-13.962', '50.341'],\n",
       "       ['31.211', '42.233'],\n",
       "       ['3450.913', '80.726']], dtype='<U8')"
      ]
     },
     "execution_count": 4,
     "metadata": {},
     "output_type": "execute_result"
    }
   ],
   "source": [
    "beta = np.reshape(digital_date,(8,2))\n",
    "beta"
   ]
  },
  {
   "cell_type": "code",
   "execution_count": 5,
   "id": "a31becf6",
   "metadata": {},
   "outputs": [
    {
     "data": {
      "text/plain": [
       "array([[-1.690000e-01,  1.800000e-02],\n",
       "       [ 2.689000e+00,  1.469000e+00],\n",
       "       [ 1.015680e+02,  4.183700e+01],\n",
       "       [ 8.766900e+01,  3.510400e+01],\n",
       "       [-5.474800e+01,  3.312300e+01],\n",
       "       [-1.396200e+01,  5.034100e+01],\n",
       "       [ 3.121100e+01,  4.223300e+01],\n",
       "       [ 3.450913e+03,  8.072600e+01]])"
      ]
     },
     "execution_count": 5,
     "metadata": {},
     "output_type": "execute_result"
    }
   ],
   "source": [
    "beta = beta.astype(float)\n",
    "beta"
   ]
  },
  {
   "cell_type": "code",
   "execution_count": 7,
   "id": "514b8945",
   "metadata": {},
   "outputs": [
    {
     "data": {
      "text/plain": [
       "array([-1.690000e-01,  2.689000e+00,  1.015680e+02,  8.766900e+01,\n",
       "       -5.474800e+01, -1.396200e+01,  3.121100e+01,  3.450913e+03])"
      ]
     },
     "execution_count": 7,
     "metadata": {},
     "output_type": "execute_result"
    }
   ],
   "source": [
    "beta[:,0]"
   ]
  },
  {
   "cell_type": "code",
   "execution_count": 8,
   "id": "d24073b2",
   "metadata": {},
   "outputs": [],
   "source": [
    "ppl_string = '''totwrk age south male smsa yngkid marr\n",
    "----------------------------------------\n",
    "1  2150  37    0    1    1     0     1  \n",
    "2  1950  28    1    1    0     1     0  \n",
    "3  2240  26    0    0    1     0     0 '''"
   ]
  },
  {
   "cell_type": "code",
   "execution_count": 9,
   "id": "5ce18ad5",
   "metadata": {},
   "outputs": [
    {
     "data": {
      "text/plain": [
       "['1',\n",
       " '2150',\n",
       " '37',\n",
       " '0',\n",
       " '1',\n",
       " '1',\n",
       " '0',\n",
       " '1',\n",
       " '2',\n",
       " '1950',\n",
       " '28',\n",
       " '1',\n",
       " '1',\n",
       " '0',\n",
       " '1',\n",
       " '0',\n",
       " '3',\n",
       " '2240',\n",
       " '26',\n",
       " '0',\n",
       " '0',\n",
       " '1',\n",
       " '0',\n",
       " '0']"
      ]
     },
     "execution_count": 9,
     "metadata": {},
     "output_type": "execute_result"
    }
   ],
   "source": [
    "ppl_lst = re.findall(r'([-+]?\\d+)', ppl_string)\n",
    "ppl_lst"
   ]
  },
  {
   "cell_type": "code",
   "execution_count": 12,
   "id": "fcc6f494",
   "metadata": {},
   "outputs": [
    {
     "data": {
      "text/plain": [
       "array([['1', '2150', '37', '0', '1', '1', '0', '1'],\n",
       "       ['2', '1950', '28', '1', '1', '0', '1', '0'],\n",
       "       ['3', '2240', '26', '0', '0', '1', '0', '0']], dtype='<U4')"
      ]
     },
     "execution_count": 12,
     "metadata": {},
     "output_type": "execute_result"
    }
   ],
   "source": [
    "ppl_numb = np.reshape(ppl_lst,(3,8))\n",
    "ppl_numb "
   ]
  },
  {
   "cell_type": "code",
   "execution_count": 13,
   "id": "4d1ddd39",
   "metadata": {},
   "outputs": [
    {
     "data": {
      "text/plain": [
       "array([['2150', '37', '0', '1', '1', '0', '1'],\n",
       "       ['1950', '28', '1', '1', '0', '1', '0'],\n",
       "       ['2240', '26', '0', '0', '1', '0', '0']], dtype='<U4')"
      ]
     },
     "execution_count": 13,
     "metadata": {},
     "output_type": "execute_result"
    }
   ],
   "source": [
    "ppl_numb = np.delete(ppl_numb,0,1)\n",
    "ppl_numb"
   ]
  },
  {
   "cell_type": "code",
   "execution_count": 14,
   "id": "d0ae617f",
   "metadata": {},
   "outputs": [
    {
     "data": {
      "text/plain": [
       "array([['2150', '37', '0', '1', '1', '0', '1', '1.0'],\n",
       "       ['1950', '28', '1', '1', '0', '1', '0', '1.0'],\n",
       "       ['2240', '26', '0', '0', '1', '0', '0', '1.0']], dtype='<U32')"
      ]
     },
     "execution_count": 14,
     "metadata": {},
     "output_type": "execute_result"
    }
   ],
   "source": [
    "ppl_numb = np.c_[ppl_numb,np.ones(3)]\n",
    "ppl_numb"
   ]
  },
  {
   "cell_type": "code",
   "execution_count": 15,
   "id": "b99c90f5",
   "metadata": {},
   "outputs": [],
   "source": [
    "beta = beta.astype(float)\n",
    "ppl_numb=ppl_numb.astype(float)"
   ]
  },
  {
   "cell_type": "code",
   "execution_count": 16,
   "id": "658249ff",
   "metadata": {},
   "outputs": [
    {
     "data": {
      "text/plain": [
       "array([[-1.690000e-01,  1.800000e-02],\n",
       "       [ 2.689000e+00,  1.469000e+00],\n",
       "       [ 1.015680e+02,  4.183700e+01],\n",
       "       [ 8.766900e+01,  3.510400e+01],\n",
       "       [-5.474800e+01,  3.312300e+01],\n",
       "       [-1.396200e+01,  5.034100e+01],\n",
       "       [ 3.121100e+01,  4.223300e+01],\n",
       "       [ 3.450913e+03,  8.072600e+01]])"
      ]
     },
     "execution_count": 16,
     "metadata": {},
     "output_type": "execute_result"
    }
   ],
   "source": [
    "beta"
   ]
  },
  {
   "cell_type": "code",
   "execution_count": 17,
   "id": "6a8d776c",
   "metadata": {},
   "outputs": [
    {
     "data": {
      "text/plain": [
       "array([[2.15e+03, 3.70e+01, 0.00e+00, 1.00e+00, 1.00e+00, 0.00e+00,\n",
       "        1.00e+00, 1.00e+00],\n",
       "       [1.95e+03, 2.80e+01, 1.00e+00, 1.00e+00, 0.00e+00, 1.00e+00,\n",
       "        0.00e+00, 1.00e+00],\n",
       "       [2.24e+03, 2.60e+01, 0.00e+00, 0.00e+00, 1.00e+00, 0.00e+00,\n",
       "        0.00e+00, 1.00e+00]])"
      ]
     },
     "execution_count": 17,
     "metadata": {},
     "output_type": "execute_result"
    }
   ],
   "source": [
    "ppl_numb"
   ]
  },
  {
   "cell_type": "code",
   "execution_count": 18,
   "id": "851d67f6",
   "metadata": {},
   "outputs": [
    {
     "data": {
      "text/plain": [
       "array([3251.188, 3371.93 , 3087.519])"
      ]
     },
     "execution_count": 18,
     "metadata": {},
     "output_type": "execute_result"
    }
   ],
   "source": [
    "ppl_numb@beta[:,0]"
   ]
  },
  {
   "cell_type": "code",
   "execution_count": 19,
   "id": "6c19bc38",
   "metadata": {},
   "outputs": [
    {
     "data": {
      "text/plain": [
       "0.018"
      ]
     },
     "execution_count": 19,
     "metadata": {},
     "output_type": "execute_result"
    }
   ],
   "source": [
    "beta[0,1]"
   ]
  },
  {
   "cell_type": "code",
   "execution_count": null,
   "id": "707d436c",
   "metadata": {},
   "outputs": [],
   "source": []
  }
 ],
 "metadata": {
  "kernelspec": {
   "display_name": "Python 3 (ipykernel)",
   "language": "python",
   "name": "python3"
  },
  "language_info": {
   "codemirror_mode": {
    "name": "ipython",
    "version": 3
   },
   "file_extension": ".py",
   "mimetype": "text/x-python",
   "name": "python",
   "nbconvert_exporter": "python",
   "pygments_lexer": "ipython3",
   "version": "3.9.15"
  }
 },
 "nbformat": 4,
 "nbformat_minor": 5
}
